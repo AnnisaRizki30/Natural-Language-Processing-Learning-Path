{
  "cells": [
    {
      "cell_type": "markdown",
      "metadata": {
        "id": "GbXWSDWyv5OW"
      },
      "source": [
        "# **Prerequisites**\n",
        "Before we start the coding part, make sure that you have set up your Python 3 environment and required packages. If you don’t have an environment set up yet, you can follow the steps in this [tutorial](https://www.relataly.com/anaconda-python-environment-machine-learning/1663/) to set up the Anaconda environment or you can use Google Colab Tools. "
      ]
    },
    {
      "cell_type": "markdown",
      "metadata": {
        "id": "RNxP_jrov_F4"
      },
      "source": [
        "# **Step #1 Import and install required Library/Packaged**"
      ]
    },
    {
      "cell_type": "code",
      "execution_count": null,
      "metadata": {
        "id": "hGxoBKP1sw5T"
      },
      "outputs": [],
      "source": [
        "# Package/Library for stemming Bahasa\n",
        "!pip install Sastrawi\n",
        "# Package/Library for use model transformers\n",
        "!pip install transformers==4.10.2"
      ]
    },
    {
      "cell_type": "code",
      "execution_count": 1,
      "metadata": {
        "colab": {
          "base_uri": "https://localhost:8080/"
        },
        "id": "vXwRvsC9bKTn",
        "outputId": "55213a49-a190-4c90-e56f-0b6b1f153d56"
      },
      "outputs": [
        {
          "output_type": "stream",
          "name": "stderr",
          "text": [
            "[nltk_data] Downloading package punkt to /root/nltk_data...\n",
            "[nltk_data]   Package punkt is already up-to-date!\n",
            "[nltk_data] Downloading package stopwords to /root/nltk_data...\n",
            "[nltk_data]   Package stopwords is already up-to-date!\n"
          ]
        }
      ],
      "source": [
        "# NLP\n",
        "import nltk\n",
        "nltk.download('punkt')\n",
        "nltk.download('stopwords')\n",
        "import string \n",
        "import re\n",
        "from nltk.tokenize import word_tokenize \n",
        "from nltk.corpus import stopwords\n",
        "from Sastrawi.Stemmer.StemmerFactory import StemmerFactory\n",
        "from wordcloud import WordCloud, STOPWORDS\n",
        "\n",
        "# Data Manipulation\n",
        "import os\n",
        "import csv\n",
        "import pandas as pd\n",
        "import numpy as np\n",
        "import itertools\n",
        "import statistics\n",
        "import time\n",
        "import datetime\n",
        "\n",
        "# Ignore Warning Error\n",
        "import warnings\n",
        "warnings.filterwarnings(\"ignore\")\n",
        "\n",
        "# Model IndoBERT\n",
        "import random\n",
        "import transformers\n",
        "import torch\n",
        "import torch.nn.functional as F\n",
        "from torch import optim\n",
        "from tqdm import tqdm\n",
        "from transformers import BertForSequenceClassification, BertConfig, BertTokenizer, AdamW, get_linear_schedule_with_warmup\n",
        "from torch.utils.data import Dataset, DataLoader,TensorDataset, random_split, RandomSampler, SequentialSampler\n",
        "from pylab import rcParams\n",
        "\n",
        "# Splitting \n",
        "from sklearn.model_selection import train_test_split\n",
        "\n",
        "# Evaluation\n",
        "from sklearn.metrics import classification_report, confusion_matrix\n",
        "from collections import defaultdict\n",
        "from textwrap import wrap\n",
        "\n",
        "# Vizualization\n",
        "import seaborn as sns\n",
        "import matplotlib.pyplot as plt\n",
        "from matplotlib import rc\n",
        "\n",
        "%matplotlib inline\n",
        "%config InlineBackend.figure_format='retina'\n",
        "sns.set(style='whitegrid', palette='muted', font_scale=1.2)\n",
        "\n",
        "HAPPY_COLORS_PALETTE = [\"#01BEFE\", \"#FFDD00\", \"#FF7D00\", \"#FF006D\", \"#ADFF02\", \"#8F00FF\"]\n",
        "sns.set_palette(sns.color_palette(HAPPY_COLORS_PALETTE))\n",
        "rcParams['figure.figsize'] = 6, 4"
      ]
    },
    {
      "cell_type": "code",
      "source": [
        "if torch.cuda.is_available():       \n",
        "    device = torch.device(\"cuda\")\n",
        "    print('There are %d GPU(s) available.' % torch.cuda.device_count())\n",
        "    print('We will use the GPU:', torch.cuda.get_device_name(0))\n",
        "\n",
        "else:\n",
        "    print('No GPU available, using the CPU instead.')\n",
        "    device = torch.device(\"cpu\")"
      ],
      "metadata": {
        "colab": {
          "base_uri": "https://localhost:8080/"
        },
        "id": "Xf5svQma42dD",
        "outputId": "2c1b742d-2900-490f-fde1-e3fd8ddc6214"
      },
      "execution_count": 17,
      "outputs": [
        {
          "output_type": "stream",
          "name": "stdout",
          "text": [
            "There are 1 GPU(s) available.\n",
            "We will use the GPU: Tesla T4\n"
          ]
        }
      ]
    },
    {
      "cell_type": "markdown",
      "metadata": {
        "id": "UhdrEs8axEAq"
      },
      "source": [
        "# **Step #2 Load Dataset**"
      ]
    },
    {
      "cell_type": "code",
      "execution_count": null,
      "metadata": {
        "id": "BE28qSbxs4OY"
      },
      "outputs": [],
      "source": [
        "# Read dataset\n",
        "df_yt_comment = pd.read_csv('ytb_comments_multi.csv')\n",
        "df_yt_comment"
      ]
    },
    {
      "cell_type": "markdown",
      "metadata": {
        "id": "6glrgRi6xGRH"
      },
      "source": [
        "# **Step #3 Preprocessing Text**\n",
        "\n",
        "**LOWERCASING**\n",
        "\n",
        "The **lowercasing** is an important text preprocessing step in which we convert the text into the same casing, preferably all in lowercase so that the words Youtube, YOutube, and YOUTUBE can be treated in the same way as “youtube”. It is helpful in text featurization techniques like term frequency, TFIDF since it prevents duplication of same words having different casing.\n"
      ]
    },
    {
      "cell_type": "code",
      "execution_count": null,
      "metadata": {
        "id": "mLFk9TYK1tBc"
      },
      "outputs": [],
      "source": [
        "# Do preprocessing casefolding = change capital letters to lowercase \n",
        "df_yt_comment['text'] = df_yt_comment['text'].str.lower()\n",
        "\n",
        "print('Case Folding Result : \\n')\n",
        "print(df_yt_comment['text'].head(50))"
      ]
    },
    {
      "cell_type": "markdown",
      "metadata": {
        "id": "6WlId8WQys_C"
      },
      "source": [
        "**CLEANSING AND TOKENIZING**\n",
        "\n",
        "\n",
        "**Cleansing** is a process which removes unimportant texts such as (@, #, links), numeric characters, non-alphabet characters, punctuation marks, empty characters, emoticon characters, repetitive characters, this is done so that the training process becomes more efficient and simple.\n",
        "\n",
        "\n",
        "**Tokenizing** is a process which converts a text in the form of a sentence into a word fragment.\n",
        "<br> \n",
        "\n",
        "**For example : \"pakai behel ngilu selama 2 minggu\"**\n",
        "<br>\n",
        "\n",
        "**After tokenizing : \"pakai\", \"behel\", \"ngilu\", \"selama\", \"minggu\"**"
      ]
    },
    {
      "cell_type": "code",
      "execution_count": null,
      "metadata": {
        "id": "wVWdxbDW2zS6"
      },
      "outputs": [],
      "source": [
        "# Remove special text\n",
        "def remove_text_special(text):\n",
        "    # Remove space\n",
        "    text = text.replace('\\\\t',\" \").replace('\\\\n',\" \").replace('\\\\u',\" \").replace('\\\\',\"\")\n",
        "    # Remove mention, tag, link, and hastag\n",
        "    text = ' '.join(re.sub(\"([@#][A-Za-z0-9]+)|(\\w+:\\/\\/\\S+)\",\" \", text).split())\n",
        "    # Remove non-ascii characters from the string\n",
        "    text = re.sub(r'[^\\x00-\\x7f]',r'', text)\n",
        "    # Remove url uncomplete\n",
        "    return text.replace(\"http://\", \" \").replace(\"https://\", \" \")\n",
        "\n",
        "df_yt_comment['text'] = df_yt_comment['text'].apply(remove_text_special)\n",
        "\n",
        "# Remove number\n",
        "def remove_number(text):\n",
        "    return  re.sub(r\"\\d+\", \"\", text)\n",
        "\n",
        "df_yt_comment['text'] = df_yt_comment['text'].apply(remove_number)\n",
        "\n",
        "# Remove punctuation\n",
        "def remove_punctuation(text):\n",
        "    return text.translate(str.maketrans(\"\",\"\",string.punctuation))\n",
        "\n",
        "df_yt_comment['text'] = df_yt_comment['text'].apply(remove_punctuation)\n",
        "\n",
        "# Remove single character\n",
        "def remove_singl_char(text):\n",
        "    return re.sub(r\"\\b[a-zA-Z]\\b\", \"\", text)\n",
        "\n",
        "df_yt_comment['text'] = df_yt_comment['text'].apply(remove_singl_char)\n",
        "\n",
        "# Remove duplicate words\n",
        "def remove_duplicate_words(text):\n",
        "    return  ''.join(ch for ch, _ in itertools.groupby(text))\n",
        "\n",
        "df_yt_comment['text'] = df_yt_comment['text'].apply(remove_duplicate_words)\n",
        "\n",
        "# Remove emoticon\n",
        "def remove_emoji(text):\n",
        "    emoji_pattern = re.compile(\"[\"\n",
        "                           u\"\\U0001F600-\\U0001F64F\"  # emoticons\n",
        "                           u\"\\U0001F300-\\U0001F5FF\"  # symbols & pictographs\n",
        "                           u\"\\U0001F680-\\U0001F6FF\"  # transport & map symbols\n",
        "                           u\"\\U0001F1E0-\\U0001F1FF\"  # flags (iOS)\n",
        "                           u\"\\U00002500-\\U00002BEF\"  # chinese char\n",
        "                           u\"\\U00002702-\\U000027B0\"\n",
        "                           u\"\\U00002702-\\U000027B0\"\n",
        "                           u\"\\U000024C2-\\U0001F251\"\n",
        "                           u\"\\U0001f926-\\U0001f937\"\n",
        "                           u\"\\U00010000-\\U0010ffff\"\n",
        "                           u\"\\u2640-\\u2642\"\n",
        "                           u\"\\u2600-\\u2B55\"\n",
        "                           u\"\\u200d\"\n",
        "                           u\"\\u23cf\"\n",
        "                           u\"\\u23e9\"\n",
        "                           u\"\\u231a\"\n",
        "                           u\"\\ufe0f\"  # dingbats\n",
        "                           u\"\\u3030\"\n",
        "                           \"]+\", flags=re.UNICODE)\n",
        "    return emoji_pattern.sub(r'', text)\n",
        "\n",
        "df_yt_comment['text'] = df_yt_comment['text'].apply(remove_emoji)\n",
        "\n",
        "# Tokenizing\n",
        "def word_tokenize_wrapper(text):\n",
        "    return word_tokenize(text)\n",
        "\n",
        "df_yt_comment['text'] = df_yt_comment['text'].apply(word_tokenize_wrapper)\n",
        "\n",
        "print('Tokenizing Result : \\n') \n",
        "print(df_yt_comment['text'].head(50))"
      ]
    },
    {
      "cell_type": "markdown",
      "metadata": {
        "id": "54RnY1i_zxaW"
      },
      "source": [
        "**CONVERT SLANG WORD (NORMALIZATION)**\n",
        "\n",
        "**Convert Slangword** is the process of converting informal words into formal words according to KBBI standards, because the data obtained from scraping results from the majority of user comments are met by the use of foreign words or words in informal language.\n",
        "<br>\n",
        "<table>\n",
        "  <tr>\n",
        "    <th>Before Normalization</th>\n",
        "    <th>After Normalization</th>\n",
        "  </tr>\n",
        "  <tr>\n",
        "    <td>Gue</td>\n",
        "    <td>Saya</td>\n",
        "  </tr>\n",
        "  <tr>\n",
        "    <td>Lo</td>\n",
        "    <td>Kamu</td>\n",
        "  </tr>\n",
        "  <tr>\n",
        "    <td>Gak</td>\n",
        "    <td>Tidak</td>\n",
        "  </tr>\n",
        "  <tr>\n",
        "    <td>Wkwk</td>\n",
        "    <td>Tertawa</td>\n",
        "  </tr>\n",
        "  <tr>\n",
        "    <td>Seneng</td>\n",
        "    <td>Senang</td>\n",
        "  </tr>\n",
        "</table>"
      ]
    },
    {
      "cell_type": "code",
      "execution_count": null,
      "metadata": {
        "id": "eP5rDAU-3Dxf"
      },
      "outputs": [],
      "source": [
        "# Read slang vocabulary dictionary\n",
        "convert_slang_word = pd.read_csv(\"new_kamusalay.csv\") \n",
        "\n",
        "# Create a variable in the form of a dictionary that will store the results of convert slang word function\n",
        "convert_slang_word_dict = {}\n",
        "\n",
        "for index, row in convert_slang_word.iterrows():\n",
        "    if row[0] not in convert_slang_word_dict:\n",
        "        convert_slang_word_dict[row[0]] = row[1] \n",
        "\n",
        "# Function for convert slang word\n",
        "def convert_slang_word_term(document):\n",
        "    return [convert_slang_word_dict[term] if term in convert_slang_word_dict else term for term in document]\n",
        "\n",
        "df_yt_comment['text'] = df_yt_comment['text'].apply(convert_slang_word_term)\n",
        "\n",
        "print('Convert Slangword Result : \\n') \n",
        "print(df_yt_comment['text'].head(50))"
      ]
    },
    {
      "cell_type": "markdown",
      "metadata": {
        "id": "AWaTamEhz3-N"
      },
      "source": [
        "**NEGATION HANDLING**\n",
        "\n",
        "**Negation Handling** is the process of dealing with the negation of a word. Negation greatly affects the polarity of other words. Example sentences **\"Saya tidak suka menggunakan behel\"** the meaning of the sentence means don't like it. However, in NLP (Natural Language Processing) in the pre-processing process, in the stopwords process \"Tidak\" is a word that included in the words contained in the stopwords dictionary. So if the stopwords process is run, the word \"Tidak\" will disappear and the sentence will change to **\"Saya suka menggunakan behel\"**. Of course this results in errors that need to be addressed and should not be ignored. Because if this is ignored, when analyzing comments of an youtube video and there are comments from users who fall into the negative category, it is considered a positive category so that the classification prediction becomes inaccurate.\n",
        "<br>\n",
        "\n",
        "**For example : \"saya\", \"tidak\", \"suka\", \"menggunakan\", \"behel\"**\n",
        "<br>\n",
        "\n",
        "**After negation handling : \"saya\", \"tidak\", \"tidak_suka\", \"menggunakan\", \"behel\"**\n",
        "\n",
        "Negation will combine words that are after the word that means negation marked with a separator (_), but the word that means negation remains and does not disappear. Because the word will be deleted during the stopword process, leaving only the word that is the result of handling the negation."
      ]
    },
    {
      "cell_type": "code",
      "execution_count": null,
      "metadata": {
        "id": "mSC09K543UB4"
      },
      "outputs": [],
      "source": [
        "# Function for do negation handling\n",
        "def negation_handling(content):\n",
        "    negation_content = []\n",
        "    for i in range(len(content)):\n",
        "        word = content[i]\n",
        "        if content[i-1] not in ['ga', 'tidak', 'kurang', 'gak', 'enggak', 'nggak', 'tak']:\n",
        "            negation_content.append(word)\n",
        "        else:\n",
        "            word = \"%s_%s\" %(content[i-1],word)\n",
        "            negation_content.append(word)\n",
        "    return negation_content\n",
        "\n",
        "df_yt_comment['text'] = df_yt_comment['text'].apply(negation_handling)\n",
        "\n",
        "print('Negation Handling Result : \\n') \n",
        "print(df_yt_comment['text'].head(50))"
      ]
    },
    {
      "cell_type": "markdown",
      "metadata": {
        "id": "ZN4nnBB401Sz"
      },
      "source": [
        "**STEMMING**\n",
        "\n",
        "**Stemming** is the process of changing words into basic words that are in accordance with the good and correct morphological structure of Indonesian. All word affixes such as prefixes, infixes, and suffixes are removed. Derivative words that have a prefix and a suffix (confix). In this study, to carry out Indonesian stemming, uses the library provided by Python, namely the <b>Sastrawi</b> library which applies the <b>Nazief algorithm and Adriani's Stemmer.</b>\n",
        "\n",
        "<br>\n",
        "<table>\n",
        "  <tr>\n",
        "    <th>Before Stemming</th>\n",
        "    <th>After Stemming</th>\n",
        "  </tr>\n",
        "  <tr>\n",
        "    <td>Mendaftar</td>\n",
        "    <td>Daftar</td>\n",
        "  </tr>\n",
        "  <tr>\n",
        "    <td>Dicurigai</td>\n",
        "    <td>Curiga</td>\n",
        "  </tr>\n",
        "  <tr>\n",
        "    <td>Berbicara</td>\n",
        "    <td>Bicara</td>\n",
        "  </tr>\n",
        "  <tr>\n",
        "    <td>Kewajiban</td>\n",
        "    <td>Wajib</td>\n",
        "  </tr>\n",
        "  <tr>\n",
        "    <td>Penyempurnaan</td>\n",
        "    <td>Sempurna</td>\n",
        "  </tr>\n",
        "</table>"
      ]
    },
    {
      "cell_type": "code",
      "execution_count": null,
      "metadata": {
        "id": "auGop7af3yNC"
      },
      "outputs": [],
      "source": [
        "# Create Stemmer\n",
        "factory = StemmerFactory()\n",
        "stemmer = factory.create_stemmer()\n",
        "\n",
        "# Function for stemming\n",
        "def stemmed_wrapper(term):\n",
        "    return stemmer.stem(term)\n",
        "\n",
        "term_dict = {}\n",
        "\n",
        "for document in df_yt_comment['text']:\n",
        "    for term in document:\n",
        "        if term not in term_dict:\n",
        "            term_dict[term] = ' '\n",
        "            \n",
        "print(len(term_dict))\n",
        "print(\"------------------------\")\n",
        "\n",
        "for term in term_dict:\n",
        "    term_dict[term] = stemmed_wrapper(term)\n",
        "    print(term,\":\" ,term_dict[term])\n",
        "    \n",
        "print(term_dict)\n",
        "print(\"------------------------\")\n",
        "\n",
        "# Apply stemmed term to dataframe\n",
        "def get_stemmed_term(document):\n",
        "    return [term_dict[term] for term in document]\n",
        "\n",
        "df_yt_comment['text'] = df_yt_comment['text'].apply(get_stemmed_term)\n",
        "\n",
        "print('Stemming Result : \\n') \n",
        "print(df_yt_comment['text'].head(50))"
      ]
    },
    {
      "cell_type": "markdown",
      "metadata": {
        "id": "SFSdeZcn1wvW"
      },
      "source": [
        "**STOPWORD REMOVAL**\n",
        "\n",
        "The last process in preprocessing is **stopwords removal**. At this stage, words that have a high frequency of occurrence are removed and their use is not too important, for example, such as connecting words “dan”, “atau”, “tapi”, “akan”  and others. Deletion of these stopwords by using the list of Indonesian stopwords derived from the <b>NLTK (Natural Language Tool Kit)</b> module."
      ]
    },
    {
      "cell_type": "code",
      "execution_count": null,
      "metadata": {
        "id": "8urlHMPf8kmk"
      },
      "outputs": [],
      "source": [
        "# ----------------Get stopword from NLTK stopword ---------\n",
        "# Get Indonesian stopword\n",
        "list_stopwords = stopwords.words('indonesian')\n",
        "# ------------------ Adding stopword manually ----------\n",
        "# Added words to delete\n",
        "list_stopwords.extend(['yg', 'dg', 'rt', 'dgn', 'ny', 'd', 'klo', 'kalo', 'amp', 'biar', 'bikin', 'bilang',\n",
        "                       'krn', 'nya', 'nih', 'sih', 'tidak', 'si', 'tau', 'tdk', 'tuh', 'utk', 'ya', 'jd', \n",
        "                       'jgn', 'sdh', 'aja', 'n', 't', 'nyg', 'hehe', 'pen', 'u', 'nan', 'loh', '&amp', 'yah', \n",
        "                       'bgt', 'hahaha', 'jg', 'ng', 'kurang', 'wkwk', 'wkwkwk', 'wkwkwkwk','pasu','dip', 'byang', \n",
        "                       'bang', 'bu', 'ku', 'banget'])\n",
        "\n",
        "# Convert list into stopwords dictionary\n",
        "list_stopwords = set(list_stopwords)\n",
        "# Delete word 'baik' in stopwords dictionary list\n",
        "list_stopwords.remove('baik')\n",
        "\n",
        "# Remove stopword from token list\n",
        "def stopwords_removal(words):\n",
        " return [word for word in words if word not in list_stopwords]\n",
        "\n",
        "df_yt_comment['text'] = df_yt_comment['text'].apply(stopwords_removal)\n",
        "\n",
        "print('Stopword Removal Result : \\n') \n",
        "print(df_yt_comment['text'].head(50))"
      ]
    },
    {
      "cell_type": "code",
      "execution_count": null,
      "metadata": {
        "id": "zADGzR8y4ieX"
      },
      "outputs": [],
      "source": [
        "# Return the data back to its original form which is not a piece of a word\n",
        "def join_text_list(text):\n",
        "    return ' '.join(text)\n",
        "    \n",
        "df_yt_comment['text_clean'] = df_yt_comment['text'].apply(join_text_list)\n",
        "print(df_yt_comment['text_clean'].head(50))"
      ]
    },
    {
      "cell_type": "code",
      "execution_count": null,
      "metadata": {
        "id": "GU7hXsZNtMVs"
      },
      "outputs": [],
      "source": [
        "# Save result of preprocessing text to csv\n",
        "df_yt_comment.to_csv('Youtube-Comment-Preprocessing.csv', index=False)"
      ]
    },
    {
      "cell_type": "markdown",
      "metadata": {
        "id": "taVhsqbd16rc"
      },
      "source": [
        "# **Step #4 Labeling Dataset - Lexicon Based Approach**\n",
        "\n",
        "In lexicon-based approach for sentiment analysis, words in texts are labeled as positive, negative, or sometimes as neutral with the help of a so-called lexicon dictionary. Take the phrase <b>“Kemarin hariku berjalan begitu baik, namun hari berikutnya berjalan dengan buruk”</b>. A lexicon dictionary would label the word <b>“baik”</b> as positive; the word <b>“buruk”</b> as negative; and possibly the other words as neutral.\n",
        "\n",
        "Once each word in the text is labeled, we can derive an overall sentiment score by summation of overall polarity scores. A popular formula to calculate the sentiment score is:\n",
        "\n",
        "![image.png](data:image/png;base64,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)\n",
        "\n",
        "If the sentiment score is < 0, the text is classified as negative. It follows that the sentiment score is > 0 means a positive text, and a score of zero means the text is classified as neutral.\n",
        "\n",
        "![image.png](data:image/png;base64,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)\n",
        "\n",
        "<b>Note :</b>\n",
        "that in the lexicon-based approach we don’t use Machine Learning models: The overall sentiment of the text is determined on-the-fly, depending only on the dictionary that is used for labeling word dictionary. "
      ]
    },
    {
      "cell_type": "code",
      "execution_count": null,
      "metadata": {
        "id": "gY7gJVe93PYG"
      },
      "outputs": [],
      "source": [
        "# Load lexicon positive and negative data\n",
        "lexicon_positive = dict()\n",
        "with open('lexicon_positive.csv', 'r') as csvfile:\n",
        "    reader = csv.reader(csvfile, delimiter=',')\n",
        "    for row in reader:\n",
        "        lexicon_positive[row[0]] = int(row[1])\n",
        "\n",
        "lexicon_negative = dict()\n",
        "with open('lexicon_negative_update.csv', 'r') as csvfile:\n",
        "    reader = csv.reader(csvfile, delimiter=',')\n",
        "    for row in reader:\n",
        "        lexicon_negative[row[0]] = int(row[1])\n",
        "        \n",
        "# Function to determine sentiment polarity of comment        \n",
        "def sentiment_analysis_lexicon_indonesia(text):\n",
        "    score = 0\n",
        "    for word in text:\n",
        "        if (word in lexicon_positive):\n",
        "            score = score + lexicon_positive[word]\n",
        "    for word in text:\n",
        "        if (word in lexicon_negative):\n",
        "            score = score + lexicon_negative[word]\n",
        "    polarity=''\n",
        "    if (score > 0):\n",
        "        polarity = 'positive'\n",
        "    elif (score < 0):\n",
        "        polarity = 'negative'\n",
        "    else:\n",
        "        polarity = 'neutral'\n",
        "    return score, polarity"
      ]
    },
    {
      "cell_type": "code",
      "execution_count": null,
      "metadata": {
        "id": "DtepqP1e3z5b"
      },
      "outputs": [],
      "source": [
        "# Results from determine sentiment polarity of tweets\n",
        "results = df_yt_comment['text'].apply(sentiment_analysis_lexicon_indonesia)\n",
        "results = list(zip(*results))\n",
        "df_yt_comment['polarity_score'] = results[0]\n",
        "df_yt_comment['polarity'] = results[1]\n",
        "print(df_yt_comment['polarity'].value_counts())"
      ]
    },
    {
      "cell_type": "code",
      "execution_count": null,
      "metadata": {
        "id": "PMKXOKahuWbx"
      },
      "outputs": [],
      "source": [
        "# Delete column 'text' cause its not use for analysis\n",
        "del df_yt_comment['text']"
      ]
    },
    {
      "cell_type": "code",
      "execution_count": null,
      "metadata": {
        "id": "CjI5cth4-TkO"
      },
      "outputs": [],
      "source": [
        "# See result of labeling dataset to csv\n",
        "df_yt_comment"
      ]
    },
    {
      "cell_type": "code",
      "execution_count": null,
      "metadata": {
        "id": "0mkP09hiLsFx"
      },
      "outputs": [],
      "source": [
        "# Save result of labeling dataset to csv\n",
        "df_yt_comment.to_csv('Youtube-Comment-Labeling.csv', index=False)"
      ]
    },
    {
      "cell_type": "code",
      "execution_count": null,
      "metadata": {
        "id": "T51qqZgkFse9"
      },
      "outputs": [],
      "source": [
        "# Read result of labeling dataset\n",
        "df_yt_comment = pd.read_csv(\"Youtube-Comment-Labeling.csv\")\n",
        "df_yt_comment"
      ]
    },
    {
      "cell_type": "markdown",
      "metadata": {
        "id": "xvKdbN5X2IYD"
      },
      "source": [
        "# **Step #5 Handling Missing Values**"
      ]
    },
    {
      "cell_type": "code",
      "execution_count": null,
      "metadata": {
        "id": "Ykec_jxbNg-j"
      },
      "outputs": [],
      "source": [
        "# Checking if the dataset has a value of Null/NaN\n",
        "is_NaN = df_yt_comment.isnull()\n",
        "row_has_NaN = is_NaN.any(axis=1)\n",
        "rows_with_NaN = df_yt_comment[row_has_NaN]\n",
        "rows_with_NaN"
      ]
    },
    {
      "cell_type": "code",
      "execution_count": null,
      "metadata": {
        "id": "URm-_vxaOBe0"
      },
      "outputs": [],
      "source": [
        "# Remove data that have NAN value in column text_clean\n",
        "df_yt_comment.dropna(subset=['text_clean'], inplace = True)\n",
        "df_yt_comment"
      ]
    },
    {
      "cell_type": "code",
      "execution_count": null,
      "metadata": {
        "id": "p0MBAvw7OOdC"
      },
      "outputs": [],
      "source": [
        "# To reset the index when data with NAN values ​​are removed so that the index numbering matches\n",
        "df_yt_comment = df_yt_comment.reset_index(drop = True)\n",
        "# Print the results of the dataframe that has been created\n",
        "df_yt_comment"
      ]
    },
    {
      "cell_type": "markdown",
      "metadata": {
        "id": "qPslzn1T2g3P"
      },
      "source": [
        "# **Step #6 Convert String To Integer Based On Column \"polarity\"**"
      ]
    },
    {
      "cell_type": "code",
      "execution_count": null,
      "metadata": {
        "id": "SWT5oO_QP6cI"
      },
      "outputs": [],
      "source": [
        "# Convert String To Integer Based On Column \"polarity\"\n",
        "def to_sentiment(polarity):\n",
        "    if polarity == 'negative':\n",
        "      return 0\n",
        "    elif polarity == 'positive':\n",
        "      return 1\n",
        "    else:\n",
        "      return 2\n",
        "\n",
        "df_yt_comment['sentiment'] = df_yt_comment.polarity.apply(to_sentiment)\n",
        "df_yt_comment"
      ]
    },
    {
      "cell_type": "code",
      "execution_count": null,
      "metadata": {
        "id": "a2EFoJ9wQgm3"
      },
      "outputs": [],
      "source": [
        "# Save result dataset to csv as Final Dataset for analysis\n",
        "df_yt_comment.to_csv('Youtube-Comment-Final.csv', index=False)"
      ]
    },
    {
      "cell_type": "markdown",
      "metadata": {
        "id": "57bH-qXV2v1c"
      },
      "source": [
        "# **Step #7 Exploratory Data Analysis**"
      ]
    },
    {
      "cell_type": "code",
      "execution_count": 2,
      "metadata": {
        "colab": {
          "base_uri": "https://localhost:8080/",
          "height": 763
        },
        "id": "6FNe7Ex7S9vB",
        "outputId": "a5804737-6998-40ab-d14f-5d178b2e379e"
      },
      "outputs": [
        {
          "output_type": "execute_result",
          "data": {
            "text/plain": [
              "                          author                time  \\\n",
              "0                   devi Shelvia  38 menit yang lalu   \n",
              "1           Azmi Zahra Dzakiyyah    8 hari yang lalu   \n",
              "2                  Diana Moreira   11 hari yang lalu   \n",
              "3                     ONE milion  3 minggu yang lalu   \n",
              "4     Muhammad Farhan Afriansyah  3 minggu yang lalu   \n",
              "...                          ...                 ...   \n",
              "9701               IndriTikameiy   2 tahun yang lalu   \n",
              "9702               IndriTikameiy   2 tahun yang lalu   \n",
              "9703                  nonamarten   2 tahun yang lalu   \n",
              "9704            -Youtuber Gagal-   2 tahun yang lalu   \n",
              "9705                  nonamarten   2 tahun yang lalu   \n",
              "\n",
              "                              urls votes  \\\n",
              "0     https://youtu.be/a7c8BArQs-s     0   \n",
              "1     https://youtu.be/a7c8BArQs-s     0   \n",
              "2     https://youtu.be/a7c8BArQs-s     0   \n",
              "3     https://youtu.be/a7c8BArQs-s     0   \n",
              "4     https://youtu.be/a7c8BArQs-s     0   \n",
              "...                            ...   ...   \n",
              "9701  https://youtu.be/wuAjzLtvWrE     0   \n",
              "9702  https://youtu.be/wuAjzLtvWrE     0   \n",
              "9703  https://youtu.be/wuAjzLtvWrE     1   \n",
              "9704  https://youtu.be/wuAjzLtvWrE     0   \n",
              "9705  https://youtu.be/wuAjzLtvWrE     1   \n",
              "\n",
              "                                             text_clean  polarity_score  \\\n",
              "0     pakai behel gigi rapi tidak pada senyum tertaw...               5   \n",
              "1                         warna karet behel bagus kakak               2   \n",
              "2     habis lepas behel k pakai retainer gigi tidak ...              -4   \n",
              "3     gigi masuk rapi tipe open bite gigi tidak sali...              11   \n",
              "4        ngerapihin gigi pergi kah gigi langsung padang               1   \n",
              "...                                                 ...             ...   \n",
              "9701  mb kemarin pergi gigi rumah sakit daerah pakai...             -10   \n",
              "9702                  gigi juta kak gigi beli motor kak               1   \n",
              "9703  sat jakbar nama liem clinic cari klinik saran ...               1   \n",
              "9704  sp ort maksud kak pasang kawat gigi ahli gigi ...               8   \n",
              "9705                             hai iyanih utuh tambal               0   \n",
              "\n",
              "      polarity  sentiment  \n",
              "0     positive          1  \n",
              "1     positive          1  \n",
              "2     negative          0  \n",
              "3     positive          1  \n",
              "4     positive          1  \n",
              "...        ...        ...  \n",
              "9701  negative          0  \n",
              "9702  positive          1  \n",
              "9703  positive          1  \n",
              "9704  positive          1  \n",
              "9705   neutral          2  \n",
              "\n",
              "[9706 rows x 8 columns]"
            ],
            "text/html": [
              "\n",
              "  <div id=\"df-ac2400d8-fb0e-4e51-a131-d96a5176bb6e\">\n",
              "    <div class=\"colab-df-container\">\n",
              "      <div>\n",
              "<style scoped>\n",
              "    .dataframe tbody tr th:only-of-type {\n",
              "        vertical-align: middle;\n",
              "    }\n",
              "\n",
              "    .dataframe tbody tr th {\n",
              "        vertical-align: top;\n",
              "    }\n",
              "\n",
              "    .dataframe thead th {\n",
              "        text-align: right;\n",
              "    }\n",
              "</style>\n",
              "<table border=\"1\" class=\"dataframe\">\n",
              "  <thead>\n",
              "    <tr style=\"text-align: right;\">\n",
              "      <th></th>\n",
              "      <th>author</th>\n",
              "      <th>time</th>\n",
              "      <th>urls</th>\n",
              "      <th>votes</th>\n",
              "      <th>text_clean</th>\n",
              "      <th>polarity_score</th>\n",
              "      <th>polarity</th>\n",
              "      <th>sentiment</th>\n",
              "    </tr>\n",
              "  </thead>\n",
              "  <tbody>\n",
              "    <tr>\n",
              "      <th>0</th>\n",
              "      <td>devi Shelvia</td>\n",
              "      <td>38 menit yang lalu</td>\n",
              "      <td>https://youtu.be/a7c8BArQs-s</td>\n",
              "      <td>0</td>\n",
              "      <td>pakai behel gigi rapi tidak pada senyum tertaw...</td>\n",
              "      <td>5</td>\n",
              "      <td>positive</td>\n",
              "      <td>1</td>\n",
              "    </tr>\n",
              "    <tr>\n",
              "      <th>1</th>\n",
              "      <td>Azmi Zahra Dzakiyyah</td>\n",
              "      <td>8 hari yang lalu</td>\n",
              "      <td>https://youtu.be/a7c8BArQs-s</td>\n",
              "      <td>0</td>\n",
              "      <td>warna karet behel bagus kakak</td>\n",
              "      <td>2</td>\n",
              "      <td>positive</td>\n",
              "      <td>1</td>\n",
              "    </tr>\n",
              "    <tr>\n",
              "      <th>2</th>\n",
              "      <td>Diana Moreira</td>\n",
              "      <td>11 hari yang lalu</td>\n",
              "      <td>https://youtu.be/a7c8BArQs-s</td>\n",
              "      <td>0</td>\n",
              "      <td>habis lepas behel k pakai retainer gigi tidak ...</td>\n",
              "      <td>-4</td>\n",
              "      <td>negative</td>\n",
              "      <td>0</td>\n",
              "    </tr>\n",
              "    <tr>\n",
              "      <th>3</th>\n",
              "      <td>ONE milion</td>\n",
              "      <td>3 minggu yang lalu</td>\n",
              "      <td>https://youtu.be/a7c8BArQs-s</td>\n",
              "      <td>0</td>\n",
              "      <td>gigi masuk rapi tipe open bite gigi tidak sali...</td>\n",
              "      <td>11</td>\n",
              "      <td>positive</td>\n",
              "      <td>1</td>\n",
              "    </tr>\n",
              "    <tr>\n",
              "      <th>4</th>\n",
              "      <td>Muhammad Farhan Afriansyah</td>\n",
              "      <td>3 minggu yang lalu</td>\n",
              "      <td>https://youtu.be/a7c8BArQs-s</td>\n",
              "      <td>0</td>\n",
              "      <td>ngerapihin gigi pergi kah gigi langsung padang</td>\n",
              "      <td>1</td>\n",
              "      <td>positive</td>\n",
              "      <td>1</td>\n",
              "    </tr>\n",
              "    <tr>\n",
              "      <th>...</th>\n",
              "      <td>...</td>\n",
              "      <td>...</td>\n",
              "      <td>...</td>\n",
              "      <td>...</td>\n",
              "      <td>...</td>\n",
              "      <td>...</td>\n",
              "      <td>...</td>\n",
              "      <td>...</td>\n",
              "    </tr>\n",
              "    <tr>\n",
              "      <th>9701</th>\n",
              "      <td>IndriTikameiy</td>\n",
              "      <td>2 tahun yang lalu</td>\n",
              "      <td>https://youtu.be/wuAjzLtvWrE</td>\n",
              "      <td>0</td>\n",
              "      <td>mb kemarin pergi gigi rumah sakit daerah pakai...</td>\n",
              "      <td>-10</td>\n",
              "      <td>negative</td>\n",
              "      <td>0</td>\n",
              "    </tr>\n",
              "    <tr>\n",
              "      <th>9702</th>\n",
              "      <td>IndriTikameiy</td>\n",
              "      <td>2 tahun yang lalu</td>\n",
              "      <td>https://youtu.be/wuAjzLtvWrE</td>\n",
              "      <td>0</td>\n",
              "      <td>gigi juta kak gigi beli motor kak</td>\n",
              "      <td>1</td>\n",
              "      <td>positive</td>\n",
              "      <td>1</td>\n",
              "    </tr>\n",
              "    <tr>\n",
              "      <th>9703</th>\n",
              "      <td>nonamarten</td>\n",
              "      <td>2 tahun yang lalu</td>\n",
              "      <td>https://youtu.be/wuAjzLtvWrE</td>\n",
              "      <td>1</td>\n",
              "      <td>sat jakbar nama liem clinic cari klinik saran ...</td>\n",
              "      <td>1</td>\n",
              "      <td>positive</td>\n",
              "      <td>1</td>\n",
              "    </tr>\n",
              "    <tr>\n",
              "      <th>9704</th>\n",
              "      <td>-Youtuber Gagal-</td>\n",
              "      <td>2 tahun yang lalu</td>\n",
              "      <td>https://youtu.be/wuAjzLtvWrE</td>\n",
              "      <td>0</td>\n",
              "      <td>sp ort maksud kak pasang kawat gigi ahli gigi ...</td>\n",
              "      <td>8</td>\n",
              "      <td>positive</td>\n",
              "      <td>1</td>\n",
              "    </tr>\n",
              "    <tr>\n",
              "      <th>9705</th>\n",
              "      <td>nonamarten</td>\n",
              "      <td>2 tahun yang lalu</td>\n",
              "      <td>https://youtu.be/wuAjzLtvWrE</td>\n",
              "      <td>1</td>\n",
              "      <td>hai iyanih utuh tambal</td>\n",
              "      <td>0</td>\n",
              "      <td>neutral</td>\n",
              "      <td>2</td>\n",
              "    </tr>\n",
              "  </tbody>\n",
              "</table>\n",
              "<p>9706 rows × 8 columns</p>\n",
              "</div>\n",
              "      <button class=\"colab-df-convert\" onclick=\"convertToInteractive('df-ac2400d8-fb0e-4e51-a131-d96a5176bb6e')\"\n",
              "              title=\"Convert this dataframe to an interactive table.\"\n",
              "              style=\"display:none;\">\n",
              "        \n",
              "  <svg xmlns=\"http://www.w3.org/2000/svg\" height=\"24px\"viewBox=\"0 0 24 24\"\n",
              "       width=\"24px\">\n",
              "    <path d=\"M0 0h24v24H0V0z\" fill=\"none\"/>\n",
              "    <path d=\"M18.56 5.44l.94 2.06.94-2.06 2.06-.94-2.06-.94-.94-2.06-.94 2.06-2.06.94zm-11 1L8.5 8.5l.94-2.06 2.06-.94-2.06-.94L8.5 2.5l-.94 2.06-2.06.94zm10 10l.94 2.06.94-2.06 2.06-.94-2.06-.94-.94-2.06-.94 2.06-2.06.94z\"/><path d=\"M17.41 7.96l-1.37-1.37c-.4-.4-.92-.59-1.43-.59-.52 0-1.04.2-1.43.59L10.3 9.45l-7.72 7.72c-.78.78-.78 2.05 0 2.83L4 21.41c.39.39.9.59 1.41.59.51 0 1.02-.2 1.41-.59l7.78-7.78 2.81-2.81c.8-.78.8-2.07 0-2.86zM5.41 20L4 18.59l7.72-7.72 1.47 1.35L5.41 20z\"/>\n",
              "  </svg>\n",
              "      </button>\n",
              "      \n",
              "  <style>\n",
              "    .colab-df-container {\n",
              "      display:flex;\n",
              "      flex-wrap:wrap;\n",
              "      gap: 12px;\n",
              "    }\n",
              "\n",
              "    .colab-df-convert {\n",
              "      background-color: #E8F0FE;\n",
              "      border: none;\n",
              "      border-radius: 50%;\n",
              "      cursor: pointer;\n",
              "      display: none;\n",
              "      fill: #1967D2;\n",
              "      height: 32px;\n",
              "      padding: 0 0 0 0;\n",
              "      width: 32px;\n",
              "    }\n",
              "\n",
              "    .colab-df-convert:hover {\n",
              "      background-color: #E2EBFA;\n",
              "      box-shadow: 0px 1px 2px rgba(60, 64, 67, 0.3), 0px 1px 3px 1px rgba(60, 64, 67, 0.15);\n",
              "      fill: #174EA6;\n",
              "    }\n",
              "\n",
              "    [theme=dark] .colab-df-convert {\n",
              "      background-color: #3B4455;\n",
              "      fill: #D2E3FC;\n",
              "    }\n",
              "\n",
              "    [theme=dark] .colab-df-convert:hover {\n",
              "      background-color: #434B5C;\n",
              "      box-shadow: 0px 1px 3px 1px rgba(0, 0, 0, 0.15);\n",
              "      filter: drop-shadow(0px 1px 2px rgba(0, 0, 0, 0.3));\n",
              "      fill: #FFFFFF;\n",
              "    }\n",
              "  </style>\n",
              "\n",
              "      <script>\n",
              "        const buttonEl =\n",
              "          document.querySelector('#df-ac2400d8-fb0e-4e51-a131-d96a5176bb6e button.colab-df-convert');\n",
              "        buttonEl.style.display =\n",
              "          google.colab.kernel.accessAllowed ? 'block' : 'none';\n",
              "\n",
              "        async function convertToInteractive(key) {\n",
              "          const element = document.querySelector('#df-ac2400d8-fb0e-4e51-a131-d96a5176bb6e');\n",
              "          const dataTable =\n",
              "            await google.colab.kernel.invokeFunction('convertToInteractive',\n",
              "                                                     [key], {});\n",
              "          if (!dataTable) return;\n",
              "\n",
              "          const docLinkHtml = 'Like what you see? Visit the ' +\n",
              "            '<a target=\"_blank\" href=https://colab.research.google.com/notebooks/data_table.ipynb>data table notebook</a>'\n",
              "            + ' to learn more about interactive tables.';\n",
              "          element.innerHTML = '';\n",
              "          dataTable['output_type'] = 'display_data';\n",
              "          await google.colab.output.renderOutput(dataTable, element);\n",
              "          const docLink = document.createElement('div');\n",
              "          docLink.innerHTML = docLinkHtml;\n",
              "          element.appendChild(docLink);\n",
              "        }\n",
              "      </script>\n",
              "    </div>\n",
              "  </div>\n",
              "  "
            ]
          },
          "metadata": {},
          "execution_count": 2
        }
      ],
      "source": [
        "# Read result of final dataset\n",
        "df_yt_comment = pd.read_csv(\"Youtube-Comment-Final.csv\")\n",
        "df_yt_comment"
      ]
    },
    {
      "cell_type": "code",
      "execution_count": 3,
      "metadata": {
        "id": "EBXPDbJiGDaw",
        "colab": {
          "base_uri": "https://localhost:8080/",
          "height": 293
        },
        "outputId": "a7f114d5-7307-4b88-c5d2-6f52b7bf56be"
      },
      "outputs": [
        {
          "output_type": "display_data",
          "data": {
            "text/plain": [
              "<Figure size 432x288 with 1 Axes>"
            ],
            "image/png": "[encoded data removed]"
          },
          "metadata": {
            "image/png": {
              "width": 410,
              "height": 276
            }
          }
        }
      ],
      "source": [
        "# View the amount of data for each sentiment on the dataset\n",
        "class_names = ['positive', 'negative', 'neutral']\n",
        "\n",
        "ax = sns.countplot(df_yt_comment.polarity)\n",
        "plt.xlabel('Youtube sentiment Bar Chart')\n",
        "ax.set_xticklabels(class_names);"
      ]
    },
    {
      "cell_type": "code",
      "execution_count": 4,
      "metadata": {
        "id": "e_1BNWDmZSJf",
        "colab": {
          "base_uri": "https://localhost:8080/",
          "height": 305
        },
        "outputId": "cf350c89-b08a-43d5-a1dc-f0615eeaffbb"
      },
      "outputs": [
        {
          "output_type": "display_data",
          "data": {
            "text/plain": [
              "<Figure size 432x288 with 1 Axes>"
            ],
            "image/png": "[encoded data removed]"
          },
          "metadata": {
            "image/png": {
              "width": 465,
              "height": 288
            }
          }
        }
      ],
      "source": [
        "# Function to make a donut chart\n",
        "def donut(sizes, ax, angle=90, labels=None,colors=None, explode=None, shadow=None):\n",
        "\n",
        "    # Plot\n",
        "    ax.pie(sizes, colors = colors, labels=labels, autopct='%.1f%%', \n",
        "           startangle = angle, pctdistance=0.8, explode = explode, \n",
        "           wedgeprops=dict(width=0.4), shadow=shadow)\n",
        "\n",
        "    # Formatting\n",
        "    plt.axis('equal')  \n",
        "    plt.tight_layout()\n",
        "\n",
        "\n",
        "# Plot arguments\n",
        "sizes = df_yt_comment.polarity.value_counts()\n",
        "labels = ['Comment Positive', 'Comment Negative', 'Comment Neutral']\n",
        "colors = ['lightgreen', 'lightskyblue', 'lightcoral']\n",
        "explode = (0,0,0)\n",
        "\n",
        "# Create axes\n",
        "f, ax = plt.subplots(figsize=(6,4))\n",
        "# plot donut\n",
        "donut(sizes, ax, 90, labels, colors=colors, explode=explode, shadow=True)\n",
        "ax.set_title('Youtube sentiment Pie Chart')\n",
        "plt.show()"
      ]
    },
    {
      "cell_type": "code",
      "execution_count": 5,
      "metadata": {
        "colab": {
          "base_uri": "https://localhost:8080/",
          "height": 424
        },
        "id": "y3qjjpiPufA3",
        "outputId": "36ecabea-9138-4d8c-ec8e-a546f4c45315"
      },
      "outputs": [
        {
          "output_type": "execute_result",
          "data": {
            "text/plain": [
              "                                             text_clean  sentiment\n",
              "0     pakai behel gigi rapi tidak pada senyum tertaw...          1\n",
              "1                         warna karet behel bagus kakak          1\n",
              "2     habis lepas behel k pakai retainer gigi tidak ...          0\n",
              "3     gigi masuk rapi tipe open bite gigi tidak sali...          1\n",
              "4        ngerapihin gigi pergi kah gigi langsung padang          1\n",
              "...                                                 ...        ...\n",
              "9701  mb kemarin pergi gigi rumah sakit daerah pakai...          0\n",
              "9702                  gigi juta kak gigi beli motor kak          1\n",
              "9703  sat jakbar nama liem clinic cari klinik saran ...          1\n",
              "9704  sp ort maksud kak pasang kawat gigi ahli gigi ...          1\n",
              "9705                             hai iyanih utuh tambal          2\n",
              "\n",
              "[9706 rows x 2 columns]"
            ],
            "text/html": [
              "\n",
              "  <div id=\"df-727b91f3-b418-4cbf-ab69-40187e2c33f5\">\n",
              "    <div class=\"colab-df-container\">\n",
              "      <div>\n",
              "<style scoped>\n",
              "    .dataframe tbody tr th:only-of-type {\n",
              "        vertical-align: middle;\n",
              "    }\n",
              "\n",
              "    .dataframe tbody tr th {\n",
              "        vertical-align: top;\n",
              "    }\n",
              "\n",
              "    .dataframe thead th {\n",
              "        text-align: right;\n",
              "    }\n",
              "</style>\n",
              "<table border=\"1\" class=\"dataframe\">\n",
              "  <thead>\n",
              "    <tr style=\"text-align: right;\">\n",
              "      <th></th>\n",
              "      <th>text_clean</th>\n",
              "      <th>sentiment</th>\n",
              "    </tr>\n",
              "  </thead>\n",
              "  <tbody>\n",
              "    <tr>\n",
              "      <th>0</th>\n",
              "      <td>pakai behel gigi rapi tidak pada senyum tertaw...</td>\n",
              "      <td>1</td>\n",
              "    </tr>\n",
              "    <tr>\n",
              "      <th>1</th>\n",
              "      <td>warna karet behel bagus kakak</td>\n",
              "      <td>1</td>\n",
              "    </tr>\n",
              "    <tr>\n",
              "      <th>2</th>\n",
              "      <td>habis lepas behel k pakai retainer gigi tidak ...</td>\n",
              "      <td>0</td>\n",
              "    </tr>\n",
              "    <tr>\n",
              "      <th>3</th>\n",
              "      <td>gigi masuk rapi tipe open bite gigi tidak sali...</td>\n",
              "      <td>1</td>\n",
              "    </tr>\n",
              "    <tr>\n",
              "      <th>4</th>\n",
              "      <td>ngerapihin gigi pergi kah gigi langsung padang</td>\n",
              "      <td>1</td>\n",
              "    </tr>\n",
              "    <tr>\n",
              "      <th>...</th>\n",
              "      <td>...</td>\n",
              "      <td>...</td>\n",
              "    </tr>\n",
              "    <tr>\n",
              "      <th>9701</th>\n",
              "      <td>mb kemarin pergi gigi rumah sakit daerah pakai...</td>\n",
              "      <td>0</td>\n",
              "    </tr>\n",
              "    <tr>\n",
              "      <th>9702</th>\n",
              "      <td>gigi juta kak gigi beli motor kak</td>\n",
              "      <td>1</td>\n",
              "    </tr>\n",
              "    <tr>\n",
              "      <th>9703</th>\n",
              "      <td>sat jakbar nama liem clinic cari klinik saran ...</td>\n",
              "      <td>1</td>\n",
              "    </tr>\n",
              "    <tr>\n",
              "      <th>9704</th>\n",
              "      <td>sp ort maksud kak pasang kawat gigi ahli gigi ...</td>\n",
              "      <td>1</td>\n",
              "    </tr>\n",
              "    <tr>\n",
              "      <th>9705</th>\n",
              "      <td>hai iyanih utuh tambal</td>\n",
              "      <td>2</td>\n",
              "    </tr>\n",
              "  </tbody>\n",
              "</table>\n",
              "<p>9706 rows × 2 columns</p>\n",
              "</div>\n",
              "      <button class=\"colab-df-convert\" onclick=\"convertToInteractive('df-727b91f3-b418-4cbf-ab69-40187e2c33f5')\"\n",
              "              title=\"Convert this dataframe to an interactive table.\"\n",
              "              style=\"display:none;\">\n",
              "        \n",
              "  <svg xmlns=\"http://www.w3.org/2000/svg\" height=\"24px\"viewBox=\"0 0 24 24\"\n",
              "       width=\"24px\">\n",
              "    <path d=\"M0 0h24v24H0V0z\" fill=\"none\"/>\n",
              "    <path d=\"M18.56 5.44l.94 2.06.94-2.06 2.06-.94-2.06-.94-.94-2.06-.94 2.06-2.06.94zm-11 1L8.5 8.5l.94-2.06 2.06-.94-2.06-.94L8.5 2.5l-.94 2.06-2.06.94zm10 10l.94 2.06.94-2.06 2.06-.94-2.06-.94-.94-2.06-.94 2.06-2.06.94z\"/><path d=\"M17.41 7.96l-1.37-1.37c-.4-.4-.92-.59-1.43-.59-.52 0-1.04.2-1.43.59L10.3 9.45l-7.72 7.72c-.78.78-.78 2.05 0 2.83L4 21.41c.39.39.9.59 1.41.59.51 0 1.02-.2 1.41-.59l7.78-7.78 2.81-2.81c.8-.78.8-2.07 0-2.86zM5.41 20L4 18.59l7.72-7.72 1.47 1.35L5.41 20z\"/>\n",
              "  </svg>\n",
              "      </button>\n",
              "      \n",
              "  <style>\n",
              "    .colab-df-container {\n",
              "      display:flex;\n",
              "      flex-wrap:wrap;\n",
              "      gap: 12px;\n",
              "    }\n",
              "\n",
              "    .colab-df-convert {\n",
              "      background-color: #E8F0FE;\n",
              "      border: none;\n",
              "      border-radius: 50%;\n",
              "      cursor: pointer;\n",
              "      display: none;\n",
              "      fill: #1967D2;\n",
              "      height: 32px;\n",
              "      padding: 0 0 0 0;\n",
              "      width: 32px;\n",
              "    }\n",
              "\n",
              "    .colab-df-convert:hover {\n",
              "      background-color: #E2EBFA;\n",
              "      box-shadow: 0px 1px 2px rgba(60, 64, 67, 0.3), 0px 1px 3px 1px rgba(60, 64, 67, 0.15);\n",
              "      fill: #174EA6;\n",
              "    }\n",
              "\n",
              "    [theme=dark] .colab-df-convert {\n",
              "      background-color: #3B4455;\n",
              "      fill: #D2E3FC;\n",
              "    }\n",
              "\n",
              "    [theme=dark] .colab-df-convert:hover {\n",
              "      background-color: #434B5C;\n",
              "      box-shadow: 0px 1px 3px 1px rgba(0, 0, 0, 0.15);\n",
              "      filter: drop-shadow(0px 1px 2px rgba(0, 0, 0, 0.3));\n",
              "      fill: #FFFFFF;\n",
              "    }\n",
              "  </style>\n",
              "\n",
              "      <script>\n",
              "        const buttonEl =\n",
              "          document.querySelector('#df-727b91f3-b418-4cbf-ab69-40187e2c33f5 button.colab-df-convert');\n",
              "        buttonEl.style.display =\n",
              "          google.colab.kernel.accessAllowed ? 'block' : 'none';\n",
              "\n",
              "        async function convertToInteractive(key) {\n",
              "          const element = document.querySelector('#df-727b91f3-b418-4cbf-ab69-40187e2c33f5');\n",
              "          const dataTable =\n",
              "            await google.colab.kernel.invokeFunction('convertToInteractive',\n",
              "                                                     [key], {});\n",
              "          if (!dataTable) return;\n",
              "\n",
              "          const docLinkHtml = 'Like what you see? Visit the ' +\n",
              "            '<a target=\"_blank\" href=https://colab.research.google.com/notebooks/data_table.ipynb>data table notebook</a>'\n",
              "            + ' to learn more about interactive tables.';\n",
              "          element.innerHTML = '';\n",
              "          dataTable['output_type'] = 'display_data';\n",
              "          await google.colab.output.renderOutput(dataTable, element);\n",
              "          const docLink = document.createElement('div');\n",
              "          docLink.innerHTML = docLinkHtml;\n",
              "          element.appendChild(docLink);\n",
              "        }\n",
              "      </script>\n",
              "    </div>\n",
              "  </div>\n",
              "  "
            ]
          },
          "metadata": {},
          "execution_count": 5
        }
      ],
      "source": [
        "# Just column text_clean and sentiment that will used\n",
        "df_sentiment_bert = df_yt_comment[['text_clean', 'sentiment']]\n",
        "df_sentiment_bert"
      ]
    },
    {
      "cell_type": "markdown",
      "metadata": {
        "id": "B2iEjyT8_GIY"
      },
      "source": [
        "# **Step #8 Prepare For BERT Sentiment Analysis**\n",
        "\n",
        "<img src=\"https://miro.medium.com/max/1032/0*x3vhaoJdGndvZqmL.png\" height=400 width=500>\n",
        "<br>\n",
        "<br>\n",
        "\n",
        "BERT is a state-of-the-art method of building language models that uses a deep learning approach. BERT uses transformers which are an attention mechanism that studies contextual relationships between words in a text. Broadly speaking, transformers consist of two separate mechanisms, namely an encoder that functions to read the input text and a decoder that produces predictions for certain jobs. Since the goal of BERT is to produce a language model, only the encoder mechanism is considered important.\n",
        "\n",
        "BERT is very instrumental in one of the subtopics of Artificial Intelligence Natural Language Processing, namely Natural Language Understanding (NLU). NLU works by interpreting a meaning from human language and classifying it into machine-understood intents. There are many kinds of work in NLU that can be completed by BERT, including Question Answering (QA), sentiment analysis, machine translation, Named Entity Recognition (NER), and others.\n",
        "\n",
        "<br>\n",
        "\n",
        "**Required Formatting**\n",
        "\n",
        "We are required to:\n",
        "\n",
        "1.   Add special tokens at the beginning and end of each sentence\n",
        "2.   Pad or truncated all sentences to a certain length\n",
        "3.   Prepare \"attention mask\"\n",
        "\n",
        "<br>\n",
        "\n",
        "**Special Tokens**\n",
        "\n",
        "**[SEP]**\n",
        "\n",
        "At the end of each sentence, we need to add [SEP] token.\n",
        "\n",
        "**[CLS]**\n",
        "\n",
        "For classification tasks, we must add [CLS] token to the beginning of each sentence.\n",
        "\n",
        "<img src=\"http://www.mccormickml.com/assets/BERT/CLS_token_500x606.png\" height=400 width=400>\n",
        "\n",
        "On the output of the final (12th) transformer, only the first embedding (corresponding to the [CLS] token) is used by the classifier.\n",
        "\n",
        "> \"The first token of every sequence is always a special classification token ([CLS]). The final hidden state corresponding to this token is used as the aggregate sequence representation for classification tasks.\" (from the BERT paper)\n",
        "\n",
        "<br>\n",
        "\n",
        "**Sentence Length & Attention Mask**\n",
        "\n",
        "Sentence length in the dataset varies greatly, so how does BERT handle this?\n",
        "\n",
        "BERT punya 2 batasan :\n",
        "\n",
        "1.   All sentences must be padded or truncate into one fixed length\n",
        "2.   Max sentence length is 512 tokens\n",
        "\n",
        "<br>\n",
        "\n",
        "**Padding use special token**\n",
        "\n",
        "**[PAD]**\n",
        "\n",
        "<img src=\"http://www.mccormickml.com/assets/BERT/padding_and_mask.png\" height=400 width=500>\n",
        "\n",
        "\"Attention Mask\" is an array consisting of '1' and '0' where '1' indicates the token is padding and '0' which is not. This mask tells BERT's \"Self-Attention\" not to include this **[PAD]** token when interpreting sentences.\n"
      ]
    },
    {
      "cell_type": "markdown",
      "source": [
        "# **8.1 Tokenize Dataset**"
      ],
      "metadata": {
        "id": "f8K4ISlNEbHr"
      }
    },
    {
      "cell_type": "code",
      "source": [
        "# Dict mapping\n",
        "label2num = {'negative': 0, 'positive': 1, 'neutral':2}\n",
        "num2label = {0: 'negative', 1: 'positive', 2: 'neutral'}"
      ],
      "metadata": {
        "id": "pyO9J3s7I7i9"
      },
      "execution_count": 6,
      "outputs": []
    },
    {
      "cell_type": "code",
      "source": [
        "print('Loading BERT tokenizer...')\n",
        "# Load BertTokenizer\n",
        "tokenizer = BertTokenizer.from_pretrained('indobenchmark/indobert-base-p1', do_lower_case=True)"
      ],
      "metadata": {
        "colab": {
          "base_uri": "https://localhost:8080/"
        },
        "id": "LLt_dw0c6onX",
        "outputId": "71cef30a-a130-4128-8842-3a9b1c9fff75"
      },
      "execution_count": 7,
      "outputs": [
        {
          "output_type": "stream",
          "name": "stdout",
          "text": [
            "Loading BERT tokenizer...\n"
          ]
        }
      ]
    },
    {
      "cell_type": "code",
      "source": [
        "# Training data only use 4000 sentence\n",
        "sentences = df_sentiment_bert.text_clean.values[:4000]\n",
        "labels = df_sentiment_bert.sentiment.values[:4000]\n",
        "\n",
        "# Testing data only use 1000 sentence\n",
        "test_sentences = df_sentiment_bert.text_clean.values[:1000]\n",
        "test_labels = df_sentiment_bert.sentiment.values[:1000]\n",
        "\n",
        "sent_length = []\n",
        "\n",
        "# For every sentence...\n",
        "for sent in sentences:\n",
        "    # Tokenize the text and add `[CLS]` and `[SEP]` tokens.\n",
        "    input_ids = tokenizer.encode(sent, add_special_tokens=True)\n",
        "    sent_length.append(len(input_ids))\n",
        "\n",
        "print('Average length = ', sum(sent_length)/len(sent_length))\n",
        "print('Median length = ', statistics.median(sent_length))"
      ],
      "metadata": {
        "colab": {
          "base_uri": "https://localhost:8080/"
        },
        "id": "4-xxVxpe6qUu",
        "outputId": "f141441e-2c9f-4869-f988-b34f60110f77"
      },
      "execution_count": 8,
      "outputs": [
        {
          "output_type": "stream",
          "name": "stdout",
          "text": [
            "Average length =  11.33\n",
            "Median length =  8.0\n"
          ]
        }
      ]
    },
    {
      "cell_type": "markdown",
      "source": [
        "Max length set into 256.\n",
        "\n",
        "The tokenizer.encode_plus function performs several steps:\n",
        "\n",
        "1. Split sentences into tokens\n",
        "2. Add special token ([CLS] and [SEP])\n",
        "3. Mapping token into ID\n",
        "4. Pad or truncate all sentence into same length\n",
        "5. Make attention mask"
      ],
      "metadata": {
        "id": "vRDmYO8GEkFp"
      }
    },
    {
      "cell_type": "code",
      "source": [
        "# Tokenize all of the sentences and map the tokens to their word IDs.\n",
        "input_ids = []\n",
        "attention_masks = []\n",
        "\n",
        "# For every sentence...\n",
        "for sent in sentences:\n",
        "    encoded_dict = tokenizer.encode_plus(\n",
        "                        sent,                        # Sentence to encode.\n",
        "                        add_special_tokens = True,   # Add '[CLS]' and '[SEP]'\n",
        "                        max_length = 256,            # Pad & truncate all sentences.\n",
        "                        pad_to_max_length = True,\n",
        "                        return_attention_mask = True,# Construct attn. masks.\n",
        "                        return_tensors = 'pt',       # Return pytorch tensors.\n",
        "                        truncation = True\n",
        "                   )\n",
        "    \n",
        "    input_ids.append(encoded_dict['input_ids'])\n",
        "    attention_masks.append(encoded_dict['attention_mask'])\n",
        "\n",
        "# Convert the lists into tensors.\n",
        "input_ids = torch.cat(input_ids, dim=0)\n",
        "attention_masks = torch.cat(attention_masks, dim=0)\n",
        "labels = torch.tensor(labels)\n",
        "\n",
        "# Print sentence 0, now as a list of IDs.\n",
        "print('Original: ', sentences[0])\n",
        "print('Token IDs:', input_ids[0])"
      ],
      "metadata": {
        "colab": {
          "base_uri": "https://localhost:8080/"
        },
        "id": "qDZ1zSfm9Wlm",
        "outputId": "b953298d-8fdf-4ec9-bad1-cd6bcb1c9c27"
      },
      "execution_count": 9,
      "outputs": [
        {
          "output_type": "stream",
          "name": "stdout",
          "text": [
            "Original:  pakai behel gigi rapi tidak pada senyum tertawa gigi rengang rahang maju malu kadang minimal usia pakai behel usia\n",
            "Token IDs: tensor([    2,  2468, 26238,  3168,  6767,   119,   126,  7319,  7519,  3168,\n",
            "        23431,    16, 18819,  3649,  5535,  3597,  3311,  1816,  2468, 26238,\n",
            "         1816,     3,     0,     0,     0,     0,     0,     0,     0,     0,\n",
            "            0,     0,     0,     0,     0,     0,     0,     0,     0,     0,\n",
            "            0,     0,     0,     0,     0,     0,     0,     0,     0,     0,\n",
            "            0,     0,     0,     0,     0,     0,     0,     0,     0,     0,\n",
            "            0,     0,     0,     0,     0,     0,     0,     0,     0,     0,\n",
            "            0,     0,     0,     0,     0,     0,     0,     0,     0,     0,\n",
            "            0,     0,     0,     0,     0,     0,     0,     0,     0,     0,\n",
            "            0,     0,     0,     0,     0,     0,     0,     0,     0,     0,\n",
            "            0,     0,     0,     0,     0,     0,     0,     0,     0,     0,\n",
            "            0,     0,     0,     0,     0,     0,     0,     0,     0,     0,\n",
            "            0,     0,     0,     0,     0,     0,     0,     0,     0,     0,\n",
            "            0,     0,     0,     0,     0,     0,     0,     0,     0,     0,\n",
            "            0,     0,     0,     0,     0,     0,     0,     0,     0,     0,\n",
            "            0,     0,     0,     0,     0,     0,     0,     0,     0,     0,\n",
            "            0,     0,     0,     0,     0,     0,     0,     0,     0,     0,\n",
            "            0,     0,     0,     0,     0,     0,     0,     0,     0,     0,\n",
            "            0,     0,     0,     0,     0,     0,     0,     0,     0,     0,\n",
            "            0,     0,     0,     0,     0,     0,     0,     0,     0,     0,\n",
            "            0,     0,     0,     0,     0,     0,     0,     0,     0,     0,\n",
            "            0,     0,     0,     0,     0,     0,     0,     0,     0,     0,\n",
            "            0,     0,     0,     0,     0,     0,     0,     0,     0,     0,\n",
            "            0,     0,     0,     0,     0,     0,     0,     0,     0,     0,\n",
            "            0,     0,     0,     0,     0,     0,     0,     0,     0,     0,\n",
            "            0,     0,     0,     0,     0,     0])\n"
          ]
        }
      ]
    },
    {
      "cell_type": "markdown",
      "metadata": {
        "id": "XJvCFs9Zeb8j"
      },
      "source": [
        "# **Step #9 Splitting Dataset Become Training, Validation, Testing**\n",
        "\n"
      ]
    },
    {
      "cell_type": "code",
      "source": [
        "# Combine the training inputs into a TensorDataset.\n",
        "dataset = TensorDataset(input_ids, attention_masks, labels)\n",
        "\n",
        "# Create a 80-20 train-validation split.\n",
        "\n",
        "# Calculate the number of samples to include in each set.\n",
        "train_size = int(0.8 * len(dataset))\n",
        "val_size = len(dataset) - train_size\n",
        "\n",
        "# Divide the dataset by randomly selecting samples.\n",
        "train_dataset, val_dataset = random_split(dataset, [train_size, val_size])\n",
        "\n",
        "print('{:>5,} training samples'.format(train_size))\n",
        "print('{:>5,} validation samples'.format(val_size))"
      ],
      "metadata": {
        "colab": {
          "base_uri": "https://localhost:8080/"
        },
        "id": "BnVp_acK-D18",
        "outputId": "d13148d1-adc0-4f53-a780-1f4ca930b2dc"
      },
      "execution_count": 10,
      "outputs": [
        {
          "output_type": "stream",
          "name": "stdout",
          "text": [
            "3,200 training samples\n",
            "  800 validation samples\n"
          ]
        }
      ]
    },
    {
      "cell_type": "markdown",
      "source": [
        "We'll also create an iterator for our dataset using the torch DataLoader class. This helps save on memory during training because, unlike a for loop, with an iterator the entire dataset does not need to be loaded into memory."
      ],
      "metadata": {
        "id": "gqjae04VFCPK"
      }
    },
    {
      "cell_type": "code",
      "source": [
        "# For fine-tuning BERT on a specific task, the authors recommend a batch \n",
        "# size of 16 or 32.\n",
        "batch_size = 32\n",
        "\n",
        "# Create the DataLoaders for our training and validation sets.\n",
        "# We'll take training samples in random order. \n",
        "train_dataloader = DataLoader(\n",
        "            train_dataset,  # The training samples.\n",
        "            sampler = RandomSampler(train_dataset), # Select batches randomly\n",
        "            num_workers=16,\n",
        "            batch_size = batch_size # Trains with this batch size.\n",
        "        )\n",
        "\n",
        "# For validation the order doesn't matter, so we'll just read them sequentially.\n",
        "validation_dataloader = DataLoader(\n",
        "            val_dataset, # The validation samples.\n",
        "            sampler = SequentialSampler(val_dataset), # Pull out batches sequentially.\n",
        "            num_workers=16,\n",
        "            batch_size = batch_size # Evaluate with this batch size.\n",
        "        )"
      ],
      "metadata": {
        "id": "FcxfmNlk-v5V"
      },
      "execution_count": 11,
      "outputs": []
    },
    {
      "cell_type": "markdown",
      "source": [
        "# **8.2. BertForSequenceClassification**\n",
        "\n",
        "We'll be using BertForSequenceClassification. This is the normal BERT model with an added single linear layer on top for classification that we will use as a sentence classifier. As we feed input data, the entire pre-trained BERT model and the additional untrained classification layer is trained on our specific task."
      ],
      "metadata": {
        "id": "9DayBAZ1FIS-"
      }
    },
    {
      "cell_type": "code",
      "source": [
        "# Load BertForSequenceClassification, the pretrained BERT model with a single \n",
        "# Linear classification layer on top. \n",
        "model = BertForSequenceClassification.from_pretrained(\n",
        "    'indobenchmark/indobert-base-p1', # Use the 12-layer BERT model, with an cased vocab.\n",
        "    num_labels = 3, \n",
        "    output_attentions = False, # Return attentions weights\n",
        "    output_hidden_states = False, # Returns all hidden-states\n",
        ")\n",
        "\n",
        "# Tell pytorch to run this model on the GPU.\n",
        "model.cuda()"
      ],
      "metadata": {
        "colab": {
          "base_uri": "https://localhost:8080/"
        },
        "id": "-nBMot1j-4vZ",
        "outputId": "e32cfe5e-8e49-4e5c-8d0c-aedd3ed53734"
      },
      "execution_count": 12,
      "outputs": [
        {
          "output_type": "stream",
          "name": "stderr",
          "text": [
            "Some weights of BertForSequenceClassification were not initialized from the model checkpoint at indobenchmark/indobert-base-p1 and are newly initialized: ['classifier.bias', 'classifier.weight']\n",
            "You should probably TRAIN this model on a down-stream task to be able to use it for predictions and inference.\n"
          ]
        },
        {
          "output_type": "execute_result",
          "data": {
            "text/plain": [
              "BertForSequenceClassification(\n",
              "  (bert): BertModel(\n",
              "    (embeddings): BertEmbeddings(\n",
              "      (word_embeddings): Embedding(50000, 768, padding_idx=0)\n",
              "      (position_embeddings): Embedding(512, 768)\n",
              "      (token_type_embeddings): Embedding(2, 768)\n",
              "      (LayerNorm): LayerNorm((768,), eps=1e-12, elementwise_affine=True)\n",
              "      (dropout): Dropout(p=0.1, inplace=False)\n",
              "    )\n",
              "    (encoder): BertEncoder(\n",
              "      (layer): ModuleList(\n",
              "        (0): BertLayer(\n",
              "          (attention): BertAttention(\n",
              "            (self): BertSelfAttention(\n",
              "              (query): Linear(in_features=768, out_features=768, bias=True)\n",
              "              (key): Linear(in_features=768, out_features=768, bias=True)\n",
              "              (value): Linear(in_features=768, out_features=768, bias=True)\n",
              "              (dropout): Dropout(p=0.1, inplace=False)\n",
              "            )\n",
              "            (output): BertSelfOutput(\n",
              "              (dense): Linear(in_features=768, out_features=768, bias=True)\n",
              "              (LayerNorm): LayerNorm((768,), eps=1e-12, elementwise_affine=True)\n",
              "              (dropout): Dropout(p=0.1, inplace=False)\n",
              "            )\n",
              "          )\n",
              "          (intermediate): BertIntermediate(\n",
              "            (dense): Linear(in_features=768, out_features=3072, bias=True)\n",
              "          )\n",
              "          (output): BertOutput(\n",
              "            (dense): Linear(in_features=3072, out_features=768, bias=True)\n",
              "            (LayerNorm): LayerNorm((768,), eps=1e-12, elementwise_affine=True)\n",
              "            (dropout): Dropout(p=0.1, inplace=False)\n",
              "          )\n",
              "        )\n",
              "        (1): BertLayer(\n",
              "          (attention): BertAttention(\n",
              "            (self): BertSelfAttention(\n",
              "              (query): Linear(in_features=768, out_features=768, bias=True)\n",
              "              (key): Linear(in_features=768, out_features=768, bias=True)\n",
              "              (value): Linear(in_features=768, out_features=768, bias=True)\n",
              "              (dropout): Dropout(p=0.1, inplace=False)\n",
              "            )\n",
              "            (output): BertSelfOutput(\n",
              "              (dense): Linear(in_features=768, out_features=768, bias=True)\n",
              "              (LayerNorm): LayerNorm((768,), eps=1e-12, elementwise_affine=True)\n",
              "              (dropout): Dropout(p=0.1, inplace=False)\n",
              "            )\n",
              "          )\n",
              "          (intermediate): BertIntermediate(\n",
              "            (dense): Linear(in_features=768, out_features=3072, bias=True)\n",
              "          )\n",
              "          (output): BertOutput(\n",
              "            (dense): Linear(in_features=3072, out_features=768, bias=True)\n",
              "            (LayerNorm): LayerNorm((768,), eps=1e-12, elementwise_affine=True)\n",
              "            (dropout): Dropout(p=0.1, inplace=False)\n",
              "          )\n",
              "        )\n",
              "        (2): BertLayer(\n",
              "          (attention): BertAttention(\n",
              "            (self): BertSelfAttention(\n",
              "              (query): Linear(in_features=768, out_features=768, bias=True)\n",
              "              (key): Linear(in_features=768, out_features=768, bias=True)\n",
              "              (value): Linear(in_features=768, out_features=768, bias=True)\n",
              "              (dropout): Dropout(p=0.1, inplace=False)\n",
              "            )\n",
              "            (output): BertSelfOutput(\n",
              "              (dense): Linear(in_features=768, out_features=768, bias=True)\n",
              "              (LayerNorm): LayerNorm((768,), eps=1e-12, elementwise_affine=True)\n",
              "              (dropout): Dropout(p=0.1, inplace=False)\n",
              "            )\n",
              "          )\n",
              "          (intermediate): BertIntermediate(\n",
              "            (dense): Linear(in_features=768, out_features=3072, bias=True)\n",
              "          )\n",
              "          (output): BertOutput(\n",
              "            (dense): Linear(in_features=3072, out_features=768, bias=True)\n",
              "            (LayerNorm): LayerNorm((768,), eps=1e-12, elementwise_affine=True)\n",
              "            (dropout): Dropout(p=0.1, inplace=False)\n",
              "          )\n",
              "        )\n",
              "        (3): BertLayer(\n",
              "          (attention): BertAttention(\n",
              "            (self): BertSelfAttention(\n",
              "              (query): Linear(in_features=768, out_features=768, bias=True)\n",
              "              (key): Linear(in_features=768, out_features=768, bias=True)\n",
              "              (value): Linear(in_features=768, out_features=768, bias=True)\n",
              "              (dropout): Dropout(p=0.1, inplace=False)\n",
              "            )\n",
              "            (output): BertSelfOutput(\n",
              "              (dense): Linear(in_features=768, out_features=768, bias=True)\n",
              "              (LayerNorm): LayerNorm((768,), eps=1e-12, elementwise_affine=True)\n",
              "              (dropout): Dropout(p=0.1, inplace=False)\n",
              "            )\n",
              "          )\n",
              "          (intermediate): BertIntermediate(\n",
              "            (dense): Linear(in_features=768, out_features=3072, bias=True)\n",
              "          )\n",
              "          (output): BertOutput(\n",
              "            (dense): Linear(in_features=3072, out_features=768, bias=True)\n",
              "            (LayerNorm): LayerNorm((768,), eps=1e-12, elementwise_affine=True)\n",
              "            (dropout): Dropout(p=0.1, inplace=False)\n",
              "          )\n",
              "        )\n",
              "        (4): BertLayer(\n",
              "          (attention): BertAttention(\n",
              "            (self): BertSelfAttention(\n",
              "              (query): Linear(in_features=768, out_features=768, bias=True)\n",
              "              (key): Linear(in_features=768, out_features=768, bias=True)\n",
              "              (value): Linear(in_features=768, out_features=768, bias=True)\n",
              "              (dropout): Dropout(p=0.1, inplace=False)\n",
              "            )\n",
              "            (output): BertSelfOutput(\n",
              "              (dense): Linear(in_features=768, out_features=768, bias=True)\n",
              "              (LayerNorm): LayerNorm((768,), eps=1e-12, elementwise_affine=True)\n",
              "              (dropout): Dropout(p=0.1, inplace=False)\n",
              "            )\n",
              "          )\n",
              "          (intermediate): BertIntermediate(\n",
              "            (dense): Linear(in_features=768, out_features=3072, bias=True)\n",
              "          )\n",
              "          (output): BertOutput(\n",
              "            (dense): Linear(in_features=3072, out_features=768, bias=True)\n",
              "            (LayerNorm): LayerNorm((768,), eps=1e-12, elementwise_affine=True)\n",
              "            (dropout): Dropout(p=0.1, inplace=False)\n",
              "          )\n",
              "        )\n",
              "        (5): BertLayer(\n",
              "          (attention): BertAttention(\n",
              "            (self): BertSelfAttention(\n",
              "              (query): Linear(in_features=768, out_features=768, bias=True)\n",
              "              (key): Linear(in_features=768, out_features=768, bias=True)\n",
              "              (value): Linear(in_features=768, out_features=768, bias=True)\n",
              "              (dropout): Dropout(p=0.1, inplace=False)\n",
              "            )\n",
              "            (output): BertSelfOutput(\n",
              "              (dense): Linear(in_features=768, out_features=768, bias=True)\n",
              "              (LayerNorm): LayerNorm((768,), eps=1e-12, elementwise_affine=True)\n",
              "              (dropout): Dropout(p=0.1, inplace=False)\n",
              "            )\n",
              "          )\n",
              "          (intermediate): BertIntermediate(\n",
              "            (dense): Linear(in_features=768, out_features=3072, bias=True)\n",
              "          )\n",
              "          (output): BertOutput(\n",
              "            (dense): Linear(in_features=3072, out_features=768, bias=True)\n",
              "            (LayerNorm): LayerNorm((768,), eps=1e-12, elementwise_affine=True)\n",
              "            (dropout): Dropout(p=0.1, inplace=False)\n",
              "          )\n",
              "        )\n",
              "        (6): BertLayer(\n",
              "          (attention): BertAttention(\n",
              "            (self): BertSelfAttention(\n",
              "              (query): Linear(in_features=768, out_features=768, bias=True)\n",
              "              (key): Linear(in_features=768, out_features=768, bias=True)\n",
              "              (value): Linear(in_features=768, out_features=768, bias=True)\n",
              "              (dropout): Dropout(p=0.1, inplace=False)\n",
              "            )\n",
              "            (output): BertSelfOutput(\n",
              "              (dense): Linear(in_features=768, out_features=768, bias=True)\n",
              "              (LayerNorm): LayerNorm((768,), eps=1e-12, elementwise_affine=True)\n",
              "              (dropout): Dropout(p=0.1, inplace=False)\n",
              "            )\n",
              "          )\n",
              "          (intermediate): BertIntermediate(\n",
              "            (dense): Linear(in_features=768, out_features=3072, bias=True)\n",
              "          )\n",
              "          (output): BertOutput(\n",
              "            (dense): Linear(in_features=3072, out_features=768, bias=True)\n",
              "            (LayerNorm): LayerNorm((768,), eps=1e-12, elementwise_affine=True)\n",
              "            (dropout): Dropout(p=0.1, inplace=False)\n",
              "          )\n",
              "        )\n",
              "        (7): BertLayer(\n",
              "          (attention): BertAttention(\n",
              "            (self): BertSelfAttention(\n",
              "              (query): Linear(in_features=768, out_features=768, bias=True)\n",
              "              (key): Linear(in_features=768, out_features=768, bias=True)\n",
              "              (value): Linear(in_features=768, out_features=768, bias=True)\n",
              "              (dropout): Dropout(p=0.1, inplace=False)\n",
              "            )\n",
              "            (output): BertSelfOutput(\n",
              "              (dense): Linear(in_features=768, out_features=768, bias=True)\n",
              "              (LayerNorm): LayerNorm((768,), eps=1e-12, elementwise_affine=True)\n",
              "              (dropout): Dropout(p=0.1, inplace=False)\n",
              "            )\n",
              "          )\n",
              "          (intermediate): BertIntermediate(\n",
              "            (dense): Linear(in_features=768, out_features=3072, bias=True)\n",
              "          )\n",
              "          (output): BertOutput(\n",
              "            (dense): Linear(in_features=3072, out_features=768, bias=True)\n",
              "            (LayerNorm): LayerNorm((768,), eps=1e-12, elementwise_affine=True)\n",
              "            (dropout): Dropout(p=0.1, inplace=False)\n",
              "          )\n",
              "        )\n",
              "        (8): BertLayer(\n",
              "          (attention): BertAttention(\n",
              "            (self): BertSelfAttention(\n",
              "              (query): Linear(in_features=768, out_features=768, bias=True)\n",
              "              (key): Linear(in_features=768, out_features=768, bias=True)\n",
              "              (value): Linear(in_features=768, out_features=768, bias=True)\n",
              "              (dropout): Dropout(p=0.1, inplace=False)\n",
              "            )\n",
              "            (output): BertSelfOutput(\n",
              "              (dense): Linear(in_features=768, out_features=768, bias=True)\n",
              "              (LayerNorm): LayerNorm((768,), eps=1e-12, elementwise_affine=True)\n",
              "              (dropout): Dropout(p=0.1, inplace=False)\n",
              "            )\n",
              "          )\n",
              "          (intermediate): BertIntermediate(\n",
              "            (dense): Linear(in_features=768, out_features=3072, bias=True)\n",
              "          )\n",
              "          (output): BertOutput(\n",
              "            (dense): Linear(in_features=3072, out_features=768, bias=True)\n",
              "            (LayerNorm): LayerNorm((768,), eps=1e-12, elementwise_affine=True)\n",
              "            (dropout): Dropout(p=0.1, inplace=False)\n",
              "          )\n",
              "        )\n",
              "        (9): BertLayer(\n",
              "          (attention): BertAttention(\n",
              "            (self): BertSelfAttention(\n",
              "              (query): Linear(in_features=768, out_features=768, bias=True)\n",
              "              (key): Linear(in_features=768, out_features=768, bias=True)\n",
              "              (value): Linear(in_features=768, out_features=768, bias=True)\n",
              "              (dropout): Dropout(p=0.1, inplace=False)\n",
              "            )\n",
              "            (output): BertSelfOutput(\n",
              "              (dense): Linear(in_features=768, out_features=768, bias=True)\n",
              "              (LayerNorm): LayerNorm((768,), eps=1e-12, elementwise_affine=True)\n",
              "              (dropout): Dropout(p=0.1, inplace=False)\n",
              "            )\n",
              "          )\n",
              "          (intermediate): BertIntermediate(\n",
              "            (dense): Linear(in_features=768, out_features=3072, bias=True)\n",
              "          )\n",
              "          (output): BertOutput(\n",
              "            (dense): Linear(in_features=3072, out_features=768, bias=True)\n",
              "            (LayerNorm): LayerNorm((768,), eps=1e-12, elementwise_affine=True)\n",
              "            (dropout): Dropout(p=0.1, inplace=False)\n",
              "          )\n",
              "        )\n",
              "        (10): BertLayer(\n",
              "          (attention): BertAttention(\n",
              "            (self): BertSelfAttention(\n",
              "              (query): Linear(in_features=768, out_features=768, bias=True)\n",
              "              (key): Linear(in_features=768, out_features=768, bias=True)\n",
              "              (value): Linear(in_features=768, out_features=768, bias=True)\n",
              "              (dropout): Dropout(p=0.1, inplace=False)\n",
              "            )\n",
              "            (output): BertSelfOutput(\n",
              "              (dense): Linear(in_features=768, out_features=768, bias=True)\n",
              "              (LayerNorm): LayerNorm((768,), eps=1e-12, elementwise_affine=True)\n",
              "              (dropout): Dropout(p=0.1, inplace=False)\n",
              "            )\n",
              "          )\n",
              "          (intermediate): BertIntermediate(\n",
              "            (dense): Linear(in_features=768, out_features=3072, bias=True)\n",
              "          )\n",
              "          (output): BertOutput(\n",
              "            (dense): Linear(in_features=3072, out_features=768, bias=True)\n",
              "            (LayerNorm): LayerNorm((768,), eps=1e-12, elementwise_affine=True)\n",
              "            (dropout): Dropout(p=0.1, inplace=False)\n",
              "          )\n",
              "        )\n",
              "        (11): BertLayer(\n",
              "          (attention): BertAttention(\n",
              "            (self): BertSelfAttention(\n",
              "              (query): Linear(in_features=768, out_features=768, bias=True)\n",
              "              (key): Linear(in_features=768, out_features=768, bias=True)\n",
              "              (value): Linear(in_features=768, out_features=768, bias=True)\n",
              "              (dropout): Dropout(p=0.1, inplace=False)\n",
              "            )\n",
              "            (output): BertSelfOutput(\n",
              "              (dense): Linear(in_features=768, out_features=768, bias=True)\n",
              "              (LayerNorm): LayerNorm((768,), eps=1e-12, elementwise_affine=True)\n",
              "              (dropout): Dropout(p=0.1, inplace=False)\n",
              "            )\n",
              "          )\n",
              "          (intermediate): BertIntermediate(\n",
              "            (dense): Linear(in_features=768, out_features=3072, bias=True)\n",
              "          )\n",
              "          (output): BertOutput(\n",
              "            (dense): Linear(in_features=3072, out_features=768, bias=True)\n",
              "            (LayerNorm): LayerNorm((768,), eps=1e-12, elementwise_affine=True)\n",
              "            (dropout): Dropout(p=0.1, inplace=False)\n",
              "          )\n",
              "        )\n",
              "      )\n",
              "    )\n",
              "    (pooler): BertPooler(\n",
              "      (dense): Linear(in_features=768, out_features=768, bias=True)\n",
              "      (activation): Tanh()\n",
              "    )\n",
              "  )\n",
              "  (dropout): Dropout(p=0.1, inplace=False)\n",
              "  (classifier): Linear(in_features=768, out_features=3, bias=True)\n",
              ")"
            ]
          },
          "metadata": {},
          "execution_count": 12
        }
      ]
    },
    {
      "cell_type": "code",
      "execution_count": 13,
      "metadata": {
        "colab": {
          "base_uri": "https://localhost:8080/"
        },
        "id": "vDRscuKQzKWM",
        "outputId": "f5305be1-6a1c-43fa-868e-e7399ccfe3c0"
      },
      "outputs": [
        {
          "output_type": "stream",
          "name": "stdout",
          "text": [
            "The BERT model has 201 different named parameters.\n",
            "\n",
            "==== Embedding Layer ====\n",
            "\n",
            "bert.embeddings.word_embeddings.weight                  (50000, 768)\n",
            "bert.embeddings.position_embeddings.weight                (512, 768)\n",
            "bert.embeddings.token_type_embeddings.weight                (2, 768)\n",
            "bert.embeddings.LayerNorm.weight                              (768,)\n",
            "bert.embeddings.LayerNorm.bias                                (768,)\n",
            "\n",
            "==== First Transformer ====\n",
            "\n",
            "bert.encoder.layer.0.attention.self.query.weight          (768, 768)\n",
            "bert.encoder.layer.0.attention.self.query.bias                (768,)\n",
            "bert.encoder.layer.0.attention.self.key.weight            (768, 768)\n",
            "bert.encoder.layer.0.attention.self.key.bias                  (768,)\n",
            "bert.encoder.layer.0.attention.self.value.weight          (768, 768)\n",
            "bert.encoder.layer.0.attention.self.value.bias                (768,)\n",
            "bert.encoder.layer.0.attention.output.dense.weight        (768, 768)\n",
            "bert.encoder.layer.0.attention.output.dense.bias              (768,)\n",
            "bert.encoder.layer.0.attention.output.LayerNorm.weight        (768,)\n",
            "bert.encoder.layer.0.attention.output.LayerNorm.bias          (768,)\n",
            "bert.encoder.layer.0.intermediate.dense.weight           (3072, 768)\n",
            "bert.encoder.layer.0.intermediate.dense.bias                 (3072,)\n",
            "bert.encoder.layer.0.output.dense.weight                 (768, 3072)\n",
            "bert.encoder.layer.0.output.dense.bias                        (768,)\n",
            "bert.encoder.layer.0.output.LayerNorm.weight                  (768,)\n",
            "bert.encoder.layer.0.output.LayerNorm.bias                    (768,)\n",
            "\n",
            "==== Output Layer ====\n",
            "\n",
            "bert.pooler.dense.weight                                  (768, 768)\n",
            "bert.pooler.dense.bias                                        (768,)\n",
            "classifier.weight                                           (3, 768)\n",
            "classifier.bias                                                 (3,)\n"
          ]
        }
      ],
      "source": [
        "# Structure model\n",
        "# Get all model parameters in a list of tuples\n",
        "params = list(model.named_parameters())\n",
        "\n",
        "print('The BERT model has {:} different named parameters.\\n'.format(len(params)))\n",
        "\n",
        "print('==== Embedding Layer ====\\n')\n",
        "\n",
        "for p in params[0:5]:\n",
        "    print(\"{:<55} {:>12}\".format(p[0], str(tuple(p[1].size()))))\n",
        "\n",
        "print('\\n==== First Transformer ====\\n')\n",
        "\n",
        "for p in params[5:21]:\n",
        "    print(\"{:<55} {:>12}\".format(p[0], str(tuple(p[1].size()))))\n",
        "\n",
        "print('\\n==== Output Layer ====\\n')\n",
        "\n",
        "for p in params[-4:]:\n",
        "    print(\"{:<55} {:>12}\".format(p[0], str(tuple(p[1].size()))))"
      ]
    },
    {
      "cell_type": "markdown",
      "source": [
        "# **8.3. Optimizer & Learning Rate Scheduler**\n",
        "\n",
        "For fine-tuning, the authors recommend choosing from the following values (from Appendix A.3 of the BERT paper):\n",
        "\n",
        "\n",
        "> *   Batch size: 16, 32\n",
        "*   Learning rate (Adam): 5e-5, 3e-5, 2e-5\n",
        "*   Number of epochs: 2, 3, 4\n",
        "\n",
        "\n",
        "We chose:\n",
        "\n",
        "*    Batch size: 32 (set when creating our DataLoaders)\n",
        "*    Learning rate: 2e-5\n",
        "*    Epochs: 3\n",
        "\n",
        "The epsilon parameter eps = 1e-8 is \"a very small number to prevent any division by zero in the implementation.\n",
        "\n",
        "**get_linear_schedule_with_warmup** function : Create a schedule with a learning rate that decreases linearly after linearly increasing during a warmup period."
      ],
      "metadata": {
        "id": "pjsKT8GYFTjw"
      }
    },
    {
      "cell_type": "code",
      "source": [
        "# Set Optimizer\n",
        "optimizer = AdamW(model.parameters(),lr = 2e-5, eps = 1e-8)\n",
        "# Set Epochs\n",
        "epochs = 10\n",
        "\n",
        "# Total number of training steps is [number of batches] x [number of epochs]. \n",
        "# (Note that this is not the same as the number of training samples).\n",
        "print('Jumlah batch :', len(train_dataloader))\n",
        "total_steps = len(train_dataloader) * epochs\n",
        "\n",
        "# Create the learning rate scheduler.\n",
        "scheduler = get_linear_schedule_with_warmup(optimizer, \n",
        "                                            num_warmup_steps = 0, # Default value in run_glue.py\n",
        "                                            num_training_steps = total_steps)"
      ],
      "metadata": {
        "colab": {
          "base_uri": "https://localhost:8080/"
        },
        "id": "7QCvc2Hy_WcT",
        "outputId": "5502a483-28e7-44ef-cc17-c867f417e533"
      },
      "execution_count": 14,
      "outputs": [
        {
          "output_type": "stream",
          "name": "stdout",
          "text": [
            "Jumlah batch : 100\n"
          ]
        }
      ]
    },
    {
      "cell_type": "code",
      "source": [
        "# Function to calculate the accuracy of our predictions vs labels\n",
        "def flat_accuracy(preds, labels):\n",
        "    pred_flat = np.argmax(preds, axis=1).flatten()\n",
        "    labels_flat = labels.flatten()\n",
        "    return np.sum(pred_flat == labels_flat) / len(labels_flat)\n",
        "\n",
        "def format_time(elapsed):\n",
        "    '''\n",
        "    Takes a time in seconds and returns a string hh:mm:ss\n",
        "    '''\n",
        "    # Round to the nearest second.\n",
        "    elapsed_rounded = int(round((elapsed)))\n",
        "    \n",
        "    # Format as hh:mm:ss\n",
        "    return str(datetime.timedelta(seconds=elapsed_rounded))"
      ],
      "metadata": {
        "id": "afmUyr8x_g-7"
      },
      "execution_count": 15,
      "outputs": []
    },
    {
      "cell_type": "markdown",
      "metadata": {
        "id": "k3ASJ8G3eLgo"
      },
      "source": [
        "# **Step #10 Training and Validation Model BERT**\n",
        "\n",
        "Training :\n",
        "\n",
        "*   Unpack our data inputs and labels\n",
        "*   Load data to GPU\n",
        "*   Clear out the gradients calculated in the previous pass\n",
        "*   Forward pass (feed input data through the network)\n",
        "*   Backward pass (backpropagation)\n",
        "*   Tell the network to update parameters with optimizer.step()\n",
        "*   Track variables for monitoring progress\n",
        "\n",
        "Evaluation :\n",
        "\n",
        "*   Unpack our data inputs and labels\n",
        "*   Load data to GPU\n",
        "*   Forward pass (feed input data through the network)\n",
        "*   Compute loss on our validation data and track variables for monitoring progress"
      ]
    },
    {
      "cell_type": "code",
      "source": [
        "# This training code is based on the `run_glue.py` script here:\n",
        "# https://github.com/huggingface/transformers/blob/5bfcd0485ece086ebcbed2d008813037968a9e58/examples/run_glue.py#L128\n",
        "\n",
        "# List variable for store training and validation loss, validation accuracy, and timings.\n",
        "training_stats = []\n",
        "\n",
        "# Measure the total training time for the whole run.\n",
        "total_t0 = time.time()\n",
        "\n",
        "# For each epoch...\n",
        "for epoch_i in range(0, epochs):\n",
        "    \n",
        "    # ========================================\n",
        "    #               Training\n",
        "    # ========================================\n",
        "    print(\"\")\n",
        "    print('======== Epoch {:} / {:} ========'.format(epoch_i + 1, epochs))\n",
        "    print('Training...')\n",
        "\n",
        "    # Measure how long the training epoch takes.\n",
        "    t0 = time.time()\n",
        "\n",
        "    # Reset the total loss for this epoch.\n",
        "    total_train_loss = 0\n",
        "\n",
        "    # Put the model into training mode\n",
        "    model.train()\n",
        "\n",
        "    # For each batch of training data...\n",
        "    for step, batch in enumerate(train_dataloader):\n",
        "        # Progress update every 20 batches.\n",
        "        if step % 20 == 0 and not step == 0:\n",
        "            elapsed = format_time(time.time() - t0)\n",
        "            # Report progress.\n",
        "            print('  Batch {:>5,}  of  {:>5,}.    Elapsed: {:}.'.format(step, len(train_dataloader), elapsed))\n",
        "\n",
        "        # `batch` contains three pytorch tensors:\n",
        "        #   [0]: input ids \n",
        "        #   [1]: attention masks\n",
        "        #   [2]: labels \n",
        "        b_input_ids = batch[0].to(device)\n",
        "        b_input_mask = batch[1].to(device)\n",
        "        b_labels = batch[2].to(device)\n",
        "\n",
        "        # Always clear any previously calculated gradients before performing a backward pass\n",
        "        model.zero_grad()        \n",
        "\n",
        "        # Perform a forward pass (evaluate the model on this training batch).\n",
        "        # token_type_ids is same as the \"segment ids\", which differentiates \n",
        "        # sentence 1 and 2 in sentence-pair tasks\n",
        "        outputs = model(b_input_ids, \n",
        "                      token_type_ids=None,\n",
        "                      attention_mask=b_input_mask, \n",
        "                      labels=b_labels)\n",
        "        \n",
        "        loss = outputs[0]\n",
        "        logits = outputs[1]\n",
        "\n",
        "        # Accumulate the training loss over all of the batches so that we can\n",
        "        # calculate the average loss at the end. \n",
        "        total_train_loss += loss.item()\n",
        "\n",
        "        # Perform a backward pass to calculate the gradients.\n",
        "        loss.backward()\n",
        "\n",
        "        # Clip the norm of the gradients to 1.0.\n",
        "        # This is to help prevent the \"exploding gradients\" problem.\n",
        "        torch.nn.utils.clip_grad_norm_(model.parameters(), 1.0)\n",
        "\n",
        "        # Update parameters and take a step using the computed gradient.\n",
        "        optimizer.step()\n",
        "\n",
        "        # Update the learning rate.\n",
        "        scheduler.step()\n",
        "\n",
        "    # Calculate the average loss over all of the batches.\n",
        "    avg_train_loss = total_train_loss / len(train_dataloader)            \n",
        "    \n",
        "    # Measure how long this epoch took.\n",
        "    training_time = format_time(time.time() - t0)\n",
        "\n",
        "    print(\"\")\n",
        "    print(\"  Average training loss: {0:.2f}\".format(avg_train_loss))\n",
        "    print(\"  Training epoch took: {:}\".format(training_time))\n",
        "    \n",
        "    # ========================================\n",
        "    #               Validation\n",
        "    # ========================================\n",
        "    # After the completion of each training epoch, measure our performance on\n",
        "    # our validation set.\n",
        "\n",
        "    print(\"\")\n",
        "    print(\"Running Validation...\")\n",
        "\n",
        "    t0 = time.time()\n",
        "\n",
        "    # Put the model in evaluation mode (batchnorm, dropout disable)\n",
        "    model.eval()\n",
        "\n",
        "    # Tracking variables \n",
        "    total_eval_accuracy = 0\n",
        "    total_eval_loss = 0\n",
        "    nb_eval_steps = 0\n",
        "\n",
        "    # Evaluate data for one epoch\n",
        "    for batch in validation_dataloader:\n",
        "        # `batch` contains three pytorch tensors:\n",
        "        #   [0]: input ids \n",
        "        #   [1]: attention masks\n",
        "        #   [2]: labels \n",
        "        b_input_ids = batch[0].to(device)\n",
        "        b_input_mask = batch[1].to(device)\n",
        "        b_labels = batch[2].to(device)\n",
        "        \n",
        "        # Deactivate autograd, it will reduce memory usage and speed up computations\n",
        "        # but you won’t be able to backprop (which you don’t want in an eval script).\n",
        "        with torch.no_grad():        \n",
        "\n",
        "            # Forward pass, calculate logit predictions.\n",
        "            outputs = model(b_input_ids, \n",
        "                            token_type_ids=None, \n",
        "                            attention_mask=b_input_mask,\n",
        "                            labels=b_labels)\n",
        "            \n",
        "            loss = outputs[0]\n",
        "            logits = outputs[1]\n",
        "            \n",
        "        # Accumulate the validation loss.\n",
        "        total_eval_loss += loss.item()\n",
        "\n",
        "        # Move logits and labels to CPU\n",
        "        logits = logits.detach().cpu().numpy()\n",
        "        label_ids = b_labels.to('cpu').numpy()\n",
        "\n",
        "        # Calculate the accuracy for this batch of test sentences, and\n",
        "        # accumulate it over all batches.\n",
        "        total_eval_accuracy += flat_accuracy(logits, label_ids)\n",
        "\n",
        "     # Report the final accuracy for this validation run.\n",
        "    avg_val_accuracy = total_eval_accuracy / len(validation_dataloader)\n",
        "    print(\"  Accuracy: {0:.2f}\".format(avg_val_accuracy))\n",
        "\n",
        "    # Calculate the average loss over all of the batches.\n",
        "    avg_val_loss = total_eval_loss / len(validation_dataloader)\n",
        "    \n",
        "    # Measure how long the validation run took.\n",
        "    validation_time = format_time(time.time() - t0)\n",
        "    \n",
        "    print(\"  Validation Loss: {0:.2f}\".format(avg_val_loss))\n",
        "    print(\"  Validation took: {:}\".format(validation_time))\n",
        "\n",
        "    # Record all statistics from this epoch.\n",
        "    training_stats.append(\n",
        "        {\n",
        "            'Epoch': epoch_i + 1,\n",
        "            'Training Loss': avg_train_loss,\n",
        "            'Validation Loss': avg_val_loss,\n",
        "            'Validation Accuracy': avg_val_accuracy,\n",
        "            'Training Time': training_time,\n",
        "            'Validation Time': validation_time\n",
        "        }\n",
        "    )\n",
        "\n",
        "print(\"\")\n",
        "print(\"Training complete!\")\n",
        "\n",
        "print(\"Total training took {:} (h:mm:ss)\".format(format_time(time.time()-total_t0)))"
      ],
      "metadata": {
        "id": "cysvkmY9_p6a",
        "colab": {
          "base_uri": "https://localhost:8080/"
        },
        "outputId": "b95c66cd-bb7c-45cd-e1bc-246218e302bf"
      },
      "execution_count": 19,
      "outputs": [
        {
          "output_type": "stream",
          "name": "stdout",
          "text": [
            "\n",
            "======== Epoch 1 / 10 ========\n",
            "Training...\n",
            "  Batch    20  of    100.    Elapsed: 0:00:27.\n",
            "  Batch    40  of    100.    Elapsed: 0:00:53.\n",
            "  Batch    60  of    100.    Elapsed: 0:01:21.\n",
            "  Batch    80  of    100.    Elapsed: 0:01:48.\n",
            "\n",
            "  Average training loss: 0.34\n",
            "  Training epoch took: 0:02:15\n",
            "\n",
            "Running Validation...\n",
            "  Accuracy: 0.86\n",
            "  Validation Loss: 0.39\n",
            "  Validation took: 0:00:15\n",
            "\n",
            "======== Epoch 2 / 10 ========\n",
            "Training...\n",
            "  Batch    20  of    100.    Elapsed: 0:00:28.\n",
            "  Batch    40  of    100.    Elapsed: 0:00:55.\n",
            "  Batch    60  of    100.    Elapsed: 0:01:22.\n",
            "  Batch    80  of    100.    Elapsed: 0:01:49.\n",
            "\n",
            "  Average training loss: 0.20\n",
            "  Training epoch took: 0:02:16\n",
            "\n",
            "Running Validation...\n",
            "  Accuracy: 0.86\n",
            "  Validation Loss: 0.40\n",
            "  Validation took: 0:00:14\n",
            "\n",
            "======== Epoch 3 / 10 ========\n",
            "Training...\n",
            "  Batch    20  of    100.    Elapsed: 0:00:28.\n",
            "  Batch    40  of    100.    Elapsed: 0:00:55.\n",
            "  Batch    60  of    100.    Elapsed: 0:01:22.\n",
            "  Batch    80  of    100.    Elapsed: 0:01:49.\n",
            "\n",
            "  Average training loss: 0.12\n",
            "  Training epoch took: 0:02:16\n",
            "\n",
            "Running Validation...\n",
            "  Accuracy: 0.88\n",
            "  Validation Loss: 0.46\n",
            "  Validation took: 0:00:15\n",
            "\n",
            "======== Epoch 4 / 10 ========\n",
            "Training...\n",
            "  Batch    20  of    100.    Elapsed: 0:00:28.\n",
            "  Batch    40  of    100.    Elapsed: 0:00:55.\n",
            "  Batch    60  of    100.    Elapsed: 0:01:22.\n",
            "  Batch    80  of    100.    Elapsed: 0:01:49.\n",
            "\n",
            "  Average training loss: 0.08\n",
            "  Training epoch took: 0:02:16\n",
            "\n",
            "Running Validation...\n",
            "  Accuracy: 0.87\n",
            "  Validation Loss: 0.57\n",
            "  Validation took: 0:00:14\n",
            "\n",
            "======== Epoch 5 / 10 ========\n",
            "Training...\n",
            "  Batch    20  of    100.    Elapsed: 0:00:28.\n",
            "  Batch    40  of    100.    Elapsed: 0:00:55.\n",
            "  Batch    60  of    100.    Elapsed: 0:01:21.\n",
            "  Batch    80  of    100.    Elapsed: 0:01:48.\n",
            "\n",
            "  Average training loss: 0.05\n",
            "  Training epoch took: 0:02:16\n",
            "\n",
            "Running Validation...\n",
            "  Accuracy: 0.87\n",
            "  Validation Loss: 0.61\n",
            "  Validation took: 0:00:14\n",
            "\n",
            "======== Epoch 6 / 10 ========\n",
            "Training...\n",
            "  Batch    20  of    100.    Elapsed: 0:00:28.\n",
            "  Batch    40  of    100.    Elapsed: 0:00:55.\n",
            "  Batch    60  of    100.    Elapsed: 0:01:22.\n",
            "  Batch    80  of    100.    Elapsed: 0:01:48.\n",
            "\n",
            "  Average training loss: 0.03\n",
            "  Training epoch took: 0:02:16\n",
            "\n",
            "Running Validation...\n",
            "  Accuracy: 0.87\n",
            "  Validation Loss: 0.62\n",
            "  Validation took: 0:00:14\n",
            "\n",
            "======== Epoch 7 / 10 ========\n",
            "Training...\n",
            "  Batch    20  of    100.    Elapsed: 0:00:28.\n",
            "  Batch    40  of    100.    Elapsed: 0:00:55.\n",
            "  Batch    60  of    100.    Elapsed: 0:01:22.\n",
            "  Batch    80  of    100.    Elapsed: 0:01:48.\n",
            "\n",
            "  Average training loss: 0.02\n",
            "  Training epoch took: 0:02:16\n",
            "\n",
            "Running Validation...\n",
            "  Accuracy: 0.88\n",
            "  Validation Loss: 0.65\n",
            "  Validation took: 0:00:14\n",
            "\n",
            "======== Epoch 8 / 10 ========\n",
            "Training...\n",
            "  Batch    20  of    100.    Elapsed: 0:00:28.\n",
            "  Batch    40  of    100.    Elapsed: 0:00:55.\n",
            "  Batch    60  of    100.    Elapsed: 0:01:22.\n",
            "  Batch    80  of    100.    Elapsed: 0:01:49.\n",
            "\n",
            "  Average training loss: 0.01\n",
            "  Training epoch took: 0:02:16\n",
            "\n",
            "Running Validation...\n",
            "  Accuracy: 0.87\n",
            "  Validation Loss: 0.67\n",
            "  Validation took: 0:00:14\n",
            "\n",
            "======== Epoch 9 / 10 ========\n",
            "Training...\n",
            "  Batch    20  of    100.    Elapsed: 0:00:28.\n",
            "  Batch    40  of    100.    Elapsed: 0:00:55.\n",
            "  Batch    60  of    100.    Elapsed: 0:01:21.\n",
            "  Batch    80  of    100.    Elapsed: 0:01:48.\n",
            "\n",
            "  Average training loss: 0.00\n",
            "  Training epoch took: 0:02:15\n",
            "\n",
            "Running Validation...\n",
            "  Accuracy: 0.88\n",
            "  Validation Loss: 0.68\n",
            "  Validation took: 0:00:14\n",
            "\n",
            "======== Epoch 10 / 10 ========\n",
            "Training...\n",
            "  Batch    20  of    100.    Elapsed: 0:00:28.\n",
            "  Batch    40  of    100.    Elapsed: 0:00:55.\n",
            "  Batch    60  of    100.    Elapsed: 0:01:21.\n",
            "  Batch    80  of    100.    Elapsed: 0:01:48.\n",
            "\n",
            "  Average training loss: 0.00\n",
            "  Training epoch took: 0:02:16\n",
            "\n",
            "Running Validation...\n",
            "  Accuracy: 0.88\n",
            "  Validation Loss: 0.68\n",
            "  Validation took: 0:00:14\n",
            "\n",
            "Training complete!\n",
            "Total training took 0:25:02 (h:mm:ss)\n"
          ]
        }
      ]
    },
    {
      "cell_type": "code",
      "execution_count": 20,
      "metadata": {
        "id": "qNvPoz7pzPsS",
        "colab": {
          "base_uri": "https://localhost:8080/",
          "height": 394
        },
        "outputId": "a5b853b3-a372-4b52-aac3-2812a8fa95d5"
      },
      "outputs": [
        {
          "output_type": "execute_result",
          "data": {
            "text/plain": [
              "       Training Loss  Validation Loss  Validation Accuracy Training Time  \\\n",
              "Epoch                                                                      \n",
              "1           3.35e-01             0.39                 0.86       0:02:15   \n",
              "2           1.95e-01             0.40                 0.86       0:02:16   \n",
              "3           1.22e-01             0.46                 0.88       0:02:16   \n",
              "4           8.09e-02             0.57                 0.87       0:02:16   \n",
              "5           4.84e-02             0.61                 0.87       0:02:16   \n",
              "6           3.17e-02             0.62                 0.87       0:02:16   \n",
              "7           1.75e-02             0.65                 0.88       0:02:16   \n",
              "8           1.16e-02             0.67                 0.87       0:02:16   \n",
              "9           3.61e-03             0.68                 0.88       0:02:15   \n",
              "10          4.31e-03             0.68                 0.88       0:02:16   \n",
              "\n",
              "      Validation Time  \n",
              "Epoch                  \n",
              "1             0:00:15  \n",
              "2             0:00:14  \n",
              "3             0:00:15  \n",
              "4             0:00:14  \n",
              "5             0:00:14  \n",
              "6             0:00:14  \n",
              "7             0:00:14  \n",
              "8             0:00:14  \n",
              "9             0:00:14  \n",
              "10            0:00:14  "
            ],
            "text/html": [
              "\n",
              "  <div id=\"df-53640506-8427-4c1f-8c65-12b9de75844f\">\n",
              "    <div class=\"colab-df-container\">\n",
              "      <div>\n",
              "<style scoped>\n",
              "    .dataframe tbody tr th:only-of-type {\n",
              "        vertical-align: middle;\n",
              "    }\n",
              "\n",
              "    .dataframe tbody tr th {\n",
              "        vertical-align: top;\n",
              "    }\n",
              "\n",
              "    .dataframe thead th {\n",
              "        text-align: right;\n",
              "    }\n",
              "</style>\n",
              "<table border=\"1\" class=\"dataframe\">\n",
              "  <thead>\n",
              "    <tr style=\"text-align: right;\">\n",
              "      <th></th>\n",
              "      <th>Training Loss</th>\n",
              "      <th>Validation Loss</th>\n",
              "      <th>Validation Accuracy</th>\n",
              "      <th>Training Time</th>\n",
              "      <th>Validation Time</th>\n",
              "    </tr>\n",
              "    <tr>\n",
              "      <th>Epoch</th>\n",
              "      <th></th>\n",
              "      <th></th>\n",
              "      <th></th>\n",
              "      <th></th>\n",
              "      <th></th>\n",
              "    </tr>\n",
              "  </thead>\n",
              "  <tbody>\n",
              "    <tr>\n",
              "      <th>1</th>\n",
              "      <td>3.35e-01</td>\n",
              "      <td>0.39</td>\n",
              "      <td>0.86</td>\n",
              "      <td>0:02:15</td>\n",
              "      <td>0:00:15</td>\n",
              "    </tr>\n",
              "    <tr>\n",
              "      <th>2</th>\n",
              "      <td>1.95e-01</td>\n",
              "      <td>0.40</td>\n",
              "      <td>0.86</td>\n",
              "      <td>0:02:16</td>\n",
              "      <td>0:00:14</td>\n",
              "    </tr>\n",
              "    <tr>\n",
              "      <th>3</th>\n",
              "      <td>1.22e-01</td>\n",
              "      <td>0.46</td>\n",
              "      <td>0.88</td>\n",
              "      <td>0:02:16</td>\n",
              "      <td>0:00:15</td>\n",
              "    </tr>\n",
              "    <tr>\n",
              "      <th>4</th>\n",
              "      <td>8.09e-02</td>\n",
              "      <td>0.57</td>\n",
              "      <td>0.87</td>\n",
              "      <td>0:02:16</td>\n",
              "      <td>0:00:14</td>\n",
              "    </tr>\n",
              "    <tr>\n",
              "      <th>5</th>\n",
              "      <td>4.84e-02</td>\n",
              "      <td>0.61</td>\n",
              "      <td>0.87</td>\n",
              "      <td>0:02:16</td>\n",
              "      <td>0:00:14</td>\n",
              "    </tr>\n",
              "    <tr>\n",
              "      <th>6</th>\n",
              "      <td>3.17e-02</td>\n",
              "      <td>0.62</td>\n",
              "      <td>0.87</td>\n",
              "      <td>0:02:16</td>\n",
              "      <td>0:00:14</td>\n",
              "    </tr>\n",
              "    <tr>\n",
              "      <th>7</th>\n",
              "      <td>1.75e-02</td>\n",
              "      <td>0.65</td>\n",
              "      <td>0.88</td>\n",
              "      <td>0:02:16</td>\n",
              "      <td>0:00:14</td>\n",
              "    </tr>\n",
              "    <tr>\n",
              "      <th>8</th>\n",
              "      <td>1.16e-02</td>\n",
              "      <td>0.67</td>\n",
              "      <td>0.87</td>\n",
              "      <td>0:02:16</td>\n",
              "      <td>0:00:14</td>\n",
              "    </tr>\n",
              "    <tr>\n",
              "      <th>9</th>\n",
              "      <td>3.61e-03</td>\n",
              "      <td>0.68</td>\n",
              "      <td>0.88</td>\n",
              "      <td>0:02:15</td>\n",
              "      <td>0:00:14</td>\n",
              "    </tr>\n",
              "    <tr>\n",
              "      <th>10</th>\n",
              "      <td>4.31e-03</td>\n",
              "      <td>0.68</td>\n",
              "      <td>0.88</td>\n",
              "      <td>0:02:16</td>\n",
              "      <td>0:00:14</td>\n",
              "    </tr>\n",
              "  </tbody>\n",
              "</table>\n",
              "</div>\n",
              "      <button class=\"colab-df-convert\" onclick=\"convertToInteractive('df-53640506-8427-4c1f-8c65-12b9de75844f')\"\n",
              "              title=\"Convert this dataframe to an interactive table.\"\n",
              "              style=\"display:none;\">\n",
              "        \n",
              "  <svg xmlns=\"http://www.w3.org/2000/svg\" height=\"24px\"viewBox=\"0 0 24 24\"\n",
              "       width=\"24px\">\n",
              "    <path d=\"M0 0h24v24H0V0z\" fill=\"none\"/>\n",
              "    <path d=\"M18.56 5.44l.94 2.06.94-2.06 2.06-.94-2.06-.94-.94-2.06-.94 2.06-2.06.94zm-11 1L8.5 8.5l.94-2.06 2.06-.94-2.06-.94L8.5 2.5l-.94 2.06-2.06.94zm10 10l.94 2.06.94-2.06 2.06-.94-2.06-.94-.94-2.06-.94 2.06-2.06.94z\"/><path d=\"M17.41 7.96l-1.37-1.37c-.4-.4-.92-.59-1.43-.59-.52 0-1.04.2-1.43.59L10.3 9.45l-7.72 7.72c-.78.78-.78 2.05 0 2.83L4 21.41c.39.39.9.59 1.41.59.51 0 1.02-.2 1.41-.59l7.78-7.78 2.81-2.81c.8-.78.8-2.07 0-2.86zM5.41 20L4 18.59l7.72-7.72 1.47 1.35L5.41 20z\"/>\n",
              "  </svg>\n",
              "      </button>\n",
              "      \n",
              "  <style>\n",
              "    .colab-df-container {\n",
              "      display:flex;\n",
              "      flex-wrap:wrap;\n",
              "      gap: 12px;\n",
              "    }\n",
              "\n",
              "    .colab-df-convert {\n",
              "      background-color: #E8F0FE;\n",
              "      border: none;\n",
              "      border-radius: 50%;\n",
              "      cursor: pointer;\n",
              "      display: none;\n",
              "      fill: #1967D2;\n",
              "      height: 32px;\n",
              "      padding: 0 0 0 0;\n",
              "      width: 32px;\n",
              "    }\n",
              "\n",
              "    .colab-df-convert:hover {\n",
              "      background-color: #E2EBFA;\n",
              "      box-shadow: 0px 1px 2px rgba(60, 64, 67, 0.3), 0px 1px 3px 1px rgba(60, 64, 67, 0.15);\n",
              "      fill: #174EA6;\n",
              "    }\n",
              "\n",
              "    [theme=dark] .colab-df-convert {\n",
              "      background-color: #3B4455;\n",
              "      fill: #D2E3FC;\n",
              "    }\n",
              "\n",
              "    [theme=dark] .colab-df-convert:hover {\n",
              "      background-color: #434B5C;\n",
              "      box-shadow: 0px 1px 3px 1px rgba(0, 0, 0, 0.15);\n",
              "      filter: drop-shadow(0px 1px 2px rgba(0, 0, 0, 0.3));\n",
              "      fill: #FFFFFF;\n",
              "    }\n",
              "  </style>\n",
              "\n",
              "      <script>\n",
              "        const buttonEl =\n",
              "          document.querySelector('#df-53640506-8427-4c1f-8c65-12b9de75844f button.colab-df-convert');\n",
              "        buttonEl.style.display =\n",
              "          google.colab.kernel.accessAllowed ? 'block' : 'none';\n",
              "\n",
              "        async function convertToInteractive(key) {\n",
              "          const element = document.querySelector('#df-53640506-8427-4c1f-8c65-12b9de75844f');\n",
              "          const dataTable =\n",
              "            await google.colab.kernel.invokeFunction('convertToInteractive',\n",
              "                                                     [key], {});\n",
              "          if (!dataTable) return;\n",
              "\n",
              "          const docLinkHtml = 'Like what you see? Visit the ' +\n",
              "            '<a target=\"_blank\" href=https://colab.research.google.com/notebooks/data_table.ipynb>data table notebook</a>'\n",
              "            + ' to learn more about interactive tables.';\n",
              "          element.innerHTML = '';\n",
              "          dataTable['output_type'] = 'display_data';\n",
              "          await google.colab.output.renderOutput(dataTable, element);\n",
              "          const docLink = document.createElement('div');\n",
              "          docLink.innerHTML = docLinkHtml;\n",
              "          element.appendChild(docLink);\n",
              "        }\n",
              "      </script>\n",
              "    </div>\n",
              "  </div>\n",
              "  "
            ]
          },
          "metadata": {},
          "execution_count": 20
        }
      ],
      "source": [
        "# Display floats with two decimal places.\n",
        "pd.set_option('precision', 2)\n",
        "\n",
        "# Create a DataFrame from our training statistics.\n",
        "df_stats = pd.DataFrame(data=training_stats)\n",
        "\n",
        "# Use the 'epoch' as the row index.\n",
        "df_stats = df_stats.set_index('Epoch')\n",
        "\n",
        "# Display the table.\n",
        "df_stats"
      ]
    },
    {
      "cell_type": "code",
      "execution_count": 21,
      "metadata": {
        "id": "T3DUe54CR6y5",
        "colab": {
          "base_uri": "https://localhost:8080/",
          "height": 323
        },
        "outputId": "4324cc41-1792-48ab-f863-5a51cd965c19"
      },
      "outputs": [
        {
          "output_type": "execute_result",
          "data": {
            "text/plain": [
              "(0.0, 1.0)"
            ]
          },
          "metadata": {},
          "execution_count": 21
        },
        {
          "output_type": "display_data",
          "data": {
            "text/plain": [
              "<Figure size 432x288 with 1 Axes>"
            ],
            "image/png": "[encoded data removed]"
          },
          "metadata": {
            "image/png": {
              "width": 397,
              "height": 289
            }
          }
        }
      ],
      "source": [
        "# Evaluation of training and validation loss\n",
        "plt.figure(figsize=(6,4))\n",
        "plt.plot(df_stats['Training Loss'], label='Training Loss')\n",
        "plt.plot(df_stats['Validation Loss'], label='Validation Loss')\n",
        "plt.title('Training & Validation Loss History')\n",
        "plt.ylabel('Loss')\n",
        "plt.xlabel('Epoch')\n",
        "plt.legend()\n",
        "plt.ylim([0, 1])"
      ]
    },
    {
      "cell_type": "markdown",
      "metadata": {
        "id": "TcZq_ydagI9N"
      },
      "source": [
        "# **Step #10 Evaluation Model Bert and Prediction New Data**\n",
        "\n",
        "With the test set prepared, we can apply our fine-tuned model to generate predictions on the test set."
      ]
    },
    {
      "cell_type": "code",
      "execution_count": 22,
      "metadata": {
        "id": "jv85NYuuVICe"
      },
      "outputs": [],
      "source": [
        "# Tokenize all of the sentences and map the tokens to thier word IDs.\n",
        "input_ids = []\n",
        "attention_masks = []\n",
        "\n",
        "# For every sentence...\n",
        "for sent in test_sentences:\n",
        "    # `encode_plus` will:\n",
        "    #   (1) Tokenize the sentence.\n",
        "    #   (2) Prepend the `[CLS]` token to the start.\n",
        "    #   (3) Append the `[SEP]` token to the end.\n",
        "    #   (4) Map tokens to their IDs.\n",
        "    #   (5) Pad or truncate the sentence to `max_length`\n",
        "    #   (6) Create attention masks for [PAD] tokens.\n",
        "    encoded_dict = tokenizer.encode_plus(\n",
        "                        sent,                      # Sentence to encode.\n",
        "                        add_special_tokens = True, # Add '[CLS]' and '[SEP]'\n",
        "                        max_length = 256,           # Pad & truncate all sentences.\n",
        "                        pad_to_max_length = True,\n",
        "                        return_attention_mask = True,   # Construct attn. masks.\n",
        "                        return_tensors = 'pt',     # Return pytorch tensors.\n",
        "                        truncation = True\n",
        "                   )\n",
        "    \n",
        "    # Add the encoded sentence to the list.    \n",
        "    input_ids.append(encoded_dict['input_ids'])\n",
        "    \n",
        "    # And its attention mask (simply differentiates padding from non-padding).\n",
        "    attention_masks.append(encoded_dict['attention_mask'])\n",
        "\n",
        "# Convert the lists into tensors.\n",
        "input_ids = torch.cat(input_ids, dim=0)\n",
        "attention_masks = torch.cat(attention_masks, dim=0)\n",
        "labels = torch.tensor(test_labels)\n",
        "\n",
        "# Set the batch size.  \n",
        "batch_size = 32  \n",
        "\n",
        "# Create the DataLoader.\n",
        "prediction_data = TensorDataset(input_ids, attention_masks, labels)\n",
        "prediction_sampler = SequentialSampler(prediction_data)\n",
        "prediction_dataloader = DataLoader(prediction_data, sampler=prediction_sampler, batch_size=batch_size)"
      ]
    },
    {
      "cell_type": "code",
      "source": [
        "# Prediction on test set\n",
        "print('Predicting labels for {:,} test sentences...'.format(len(input_ids)))\n",
        "\n",
        "# Put model in evaluation mode\n",
        "model.eval()\n",
        "\n",
        "# Tracking variables \n",
        "predictions , true_labels = [], []\n",
        "\n",
        "# Predict \n",
        "for batch in prediction_dataloader:\n",
        "  # Add batch to GPU\n",
        "  batch = tuple(t.to(device) for t in batch)\n",
        "  \n",
        "  # Unpack the inputs from our dataloader\n",
        "  b_input_ids, b_input_mask, b_labels = batch\n",
        "  \n",
        "  # Telling the model not to compute or store gradients, saving memory and \n",
        "  # speeding up prediction\n",
        "  with torch.no_grad():\n",
        "      # Forward pass, calculate logit predictions\n",
        "      outputs = model(b_input_ids, token_type_ids=None, \n",
        "                      attention_mask=b_input_mask)\n",
        "\n",
        "  logits = outputs[0]\n",
        "\n",
        "  # Move logits and labels to CPU\n",
        "  logits = logits.detach().cpu().numpy()\n",
        "  label_ids = b_labels.to('cpu').numpy()\n",
        "  \n",
        "  # Store predictions and true labels\n",
        "  predictions.append(logits)\n",
        "  true_labels.append(label_ids)\n",
        "\n",
        "print('DONE.')"
      ],
      "metadata": {
        "id": "BVdX8O5mGxeZ",
        "colab": {
          "base_uri": "https://localhost:8080/"
        },
        "outputId": "81e5aaad-7b23-446c-994c-64bbd2b0d469"
      },
      "execution_count": 23,
      "outputs": [
        {
          "output_type": "stream",
          "name": "stdout",
          "text": [
            "Predicting labels for 1,000 test sentences...\n",
            "DONE.\n"
          ]
        }
      ]
    },
    {
      "cell_type": "code",
      "source": [
        "# flatten prediction and true lists\n",
        "flat_pred = []\n",
        "flat_true = []\n",
        "for i in range(len(predictions)):\n",
        "    for j in range(len(predictions[i])):\n",
        "        flat_pred.append(predictions[i][j])\n",
        "        flat_true.append(true_labels[i][j])\n",
        "        \n",
        "print(f\"Number of testing samples results: {len(flat_pred)}\")"
      ],
      "metadata": {
        "colab": {
          "base_uri": "https://localhost:8080/"
        },
        "id": "r5gJ4JmEW0MZ",
        "outputId": "cbbdf551-6db2-4e68-bdcb-8515f31c30a9"
      },
      "execution_count": 24,
      "outputs": [
        {
          "output_type": "stream",
          "name": "stdout",
          "text": [
            "Number of testing samples results: 1000\n"
          ]
        }
      ]
    },
    {
      "cell_type": "code",
      "source": [
        "# Calculate accuracy for test dataset\n",
        "total_accuracy = 0\n",
        "\n",
        "for batch_num in range(len(predictions)): \n",
        "  total_accuracy += flat_accuracy(predictions[batch_num], true_labels[batch_num])\n",
        "\n",
        "total_accuracy = total_accuracy/len(predictions)*100\n",
        "print('Accuracy on test dataset:', total_accuracy)\n",
        "\n",
        "print('\\n')\n",
        "# Classification report\n",
        "class_names = ['Negative', 'Positive', 'Neutral']\n",
        "print(classification_report(flat_true, np.argmax(flat_pred, axis=1), digits=4, target_names=class_names))"
      ],
      "metadata": {
        "colab": {
          "base_uri": "https://localhost:8080/"
        },
        "id": "eBC_GsmSP4T6",
        "outputId": "b7e039b0-bc57-4846-b8f1-c9d884516f92"
      },
      "execution_count": 25,
      "outputs": [
        {
          "output_type": "stream",
          "name": "stdout",
          "text": [
            "Accuracy on test dataset: 97.8515625\n",
            "\n",
            "\n",
            "              precision    recall  f1-score   support\n",
            "\n",
            "    Negative     0.9659    0.9808    0.9733       260\n",
            "    Positive     0.9853    0.9833    0.9843       478\n",
            "     Neutral     0.9768    0.9656    0.9712       262\n",
            "\n",
            "    accuracy                         0.9780      1000\n",
            "   macro avg     0.9760    0.9766    0.9763      1000\n",
            "weighted avg     0.9781    0.9780    0.9780      1000\n",
            "\n"
          ]
        }
      ]
    },
    {
      "cell_type": "code",
      "source": [
        "# Plot confusion matrix\n",
        "confusion_matrix_df = pd.DataFrame(confusion_matrix(flat_true, np.argmax(flat_pred, axis=1))).rename(columns=num2label, index=num2label)\n",
        "sns.heatmap(confusion_matrix_df, annot=True, fmt='').set(title=\"confusion matrix\", xlabel=\"Predicted Label\", ylabel=\"True Label\")\n",
        "plt.show()"
      ],
      "metadata": {
        "colab": {
          "base_uri": "https://localhost:8080/",
          "height": 306
        },
        "id": "akopzG94YUJQ",
        "outputId": "addf38db-0dde-4071-d3a2-73e3f4ca20ef"
      },
      "execution_count": 26,
      "outputs": [
        {
          "output_type": "display_data",
          "data": {
            "text/plain": [
              "<Figure size 432x288 with 2 Axes>"
            ],
            "image/png": "[encoded data removed]"
          },
          "metadata": {
            "image/png": {
              "width": 384,
              "height": 289
            }
          }
        }
      ]
    },
    {
      "cell_type": "markdown",
      "source": [
        "# **Saving Model**"
      ],
      "metadata": {
        "id": "E0E3lo2oHR1b"
      }
    },
    {
      "cell_type": "code",
      "source": [
        "# Save tokenizer\n",
        "tokenizer.save_pretrained('SA01-INDO-BERT-MODEL/')"
      ],
      "metadata": {
        "colab": {
          "base_uri": "https://localhost:8080/"
        },
        "id": "OdIMr4psqI-J",
        "outputId": "945da56e-00e1-42a8-e639-1b7346e9f42f"
      },
      "execution_count": 27,
      "outputs": [
        {
          "output_type": "execute_result",
          "data": {
            "text/plain": [
              "('SA01-INDO-BERT-MODEL/tokenizer_config.json',\n",
              " 'SA01-INDO-BERT-MODEL/special_tokens_map.json',\n",
              " 'SA01-INDO-BERT-MODEL/vocab.txt',\n",
              " 'SA01-INDO-BERT-MODEL/added_tokens.json')"
            ]
          },
          "metadata": {},
          "execution_count": 27
        }
      ]
    },
    {
      "cell_type": "code",
      "source": [
        "# Save model Bert\n",
        "model.save_pretrained('SA01-INDO-BERT-MODEL/')"
      ],
      "metadata": {
        "id": "yXWyZIF5qW4F"
      },
      "execution_count": 28,
      "outputs": []
    },
    {
      "cell_type": "markdown",
      "source": [
        "# **Prediction With New Text**"
      ],
      "metadata": {
        "id": "0O46eUTDHZ2x"
      }
    },
    {
      "cell_type": "code",
      "execution_count": 29,
      "metadata": {
        "id": "F20mYGmx7PWm",
        "colab": {
          "base_uri": "https://localhost:8080/"
        },
        "outputId": "4a7608f9-d886-47ea-e933-7d64a45c2115"
      },
      "outputs": [
        {
          "output_type": "stream",
          "name": "stdout",
          "text": [
            "Text: Aku baru sebulan udah pengen lepas rasanya. Udah gak peduli uang yang keluar sayang. Pokoknya gak nyaman, setiap hari sedih terus. Akhirnya aku cerita ke dokterku kalau aku dah gak kuat aku bilang kalau bakal bertahan 2 atau 3 bulan dari pemasangan behel. Setelah itu aku minta buat beneran lepas aja. Pokoknya jangan ragu buat cerita ke dokter | Label : negative (99.147%)\n"
          ]
        }
      ],
      "source": [
        "text = \"Aku baru sebulan udah pengen lepas rasanya. Udah gak peduli uang yang keluar sayang. Pokoknya gak nyaman, setiap hari sedih terus. Akhirnya aku cerita ke dokterku kalau aku dah gak kuat aku bilang kalau bakal bertahan 2 atau 3 bulan dari pemasangan behel. Setelah itu aku minta buat beneran lepas aja. Pokoknya jangan ragu buat cerita ke dokter\"\n",
        "subwords = tokenizer.encode(text)\n",
        "subwords = torch.LongTensor(subwords).view(1, -1).to(model.device)\n",
        "\n",
        "logits = model(subwords)[0]\n",
        "\n",
        "label = torch.topk(logits, k=1, dim=-1)[1].squeeze().item()\n",
        "\n",
        "print(f'Text: {text} | Label : {num2label[label]} ({F.softmax(logits, dim=-1).squeeze()[label] * 100:.3f}%)')"
      ]
    },
    {
      "cell_type": "code",
      "source": [
        "text = \"Kak, pas awal pasang bracketnya suka lepas nggak? Apa cuman punyaku doang yang suka lepas dbagian ujung2nya\"\n",
        "subwords = tokenizer.encode(text)\n",
        "subwords = torch.LongTensor(subwords).view(1, -1).to(model.device)\n",
        "\n",
        "logits = model(subwords)[0]\n",
        "label = torch.topk(logits, k=1, dim=-1)[1].squeeze().item()\n",
        "\n",
        "print(f'Text: {text} | Label : {num2label[label]} ({F.softmax(logits, dim=-1).squeeze()[label] * 100:.3f}%)')"
      ],
      "metadata": {
        "id": "e_jcTZxAWQL6",
        "colab": {
          "base_uri": "https://localhost:8080/"
        },
        "outputId": "666212f3-899f-478c-8cc8-ad0d62d69490"
      },
      "execution_count": 30,
      "outputs": [
        {
          "output_type": "stream",
          "name": "stdout",
          "text": [
            "Text: Kak, pas awal pasang bracketnya suka lepas nggak? Apa cuman punyaku doang yang suka lepas dbagian ujung2nya | Label : positive (94.052%)\n"
          ]
        }
      ]
    },
    {
      "cell_type": "markdown",
      "source": [
        "# **Push Model To Huggingface For Transformer**"
      ],
      "metadata": {
        "id": "3Inip8tLHkw9"
      }
    },
    {
      "cell_type": "code",
      "source": [
        "!huggingface-cli login"
      ],
      "metadata": {
        "id": "JXkbaHTQYaAF"
      },
      "execution_count": null,
      "outputs": []
    },
    {
      "cell_type": "code",
      "source": [
        "from huggingface_hub import HfApi, HfFolder\n",
        "import os\n",
        "\n",
        "api = HfApi()\n",
        "folder = HfFolder()\n",
        "token = folder.get_token()\n",
        "\n",
        "api.create_repo(token, \"SA01-IndoBert\")"
      ],
      "metadata": {
        "colab": {
          "base_uri": "https://localhost:8080/",
          "height": 35
        },
        "id": "9MGIuwUXaxCA",
        "outputId": "9b77f17e-7f51-4d98-eeb2-3057f5cebb06"
      },
      "execution_count": 32,
      "outputs": [
        {
          "output_type": "execute_result",
          "data": {
            "text/plain": [
              "'https://huggingface.co/liandarizkia/SA01-IndoBert'"
            ],
            "application/vnd.google.colaboratory.intrinsic+json": {
              "type": "string"
            }
          },
          "metadata": {},
          "execution_count": 32
        }
      ]
    },
    {
      "cell_type": "code",
      "source": [
        "api.upload_file(token=token, repo_id=\"liandarizkia/SA01-IndoBert\", path_or_fileobj=\"SA01-INDO-BERT-MODEL/pytorch_model.bin\", path_in_repo=\"pytorch_model.bin\")"
      ],
      "metadata": {
        "id": "EkOjwrwGdDMc",
        "colab": {
          "base_uri": "https://localhost:8080/",
          "height": 35
        },
        "outputId": "7796d087-3e26-4f86-e1fa-6d9b89bdbd8c"
      },
      "execution_count": 33,
      "outputs": [
        {
          "output_type": "execute_result",
          "data": {
            "text/plain": [
              "'https://huggingface.co/liandarizkia/SA01-IndoBert/blob/main/pytorch_model.bin'"
            ],
            "application/vnd.google.colaboratory.intrinsic+json": {
              "type": "string"
            }
          },
          "metadata": {},
          "execution_count": 33
        }
      ]
    }
  ],
  "metadata": {
    "accelerator": "GPU",
    "colab": {
      "collapsed_sections": [],
      "provenance": []
    },
    "gpuClass": "standard",
    "kernelspec": {
      "display_name": "Python 3.8.10 64-bit",
      "language": "python",
      "name": "python3"
    },
    "language_info": {
      "name": "python",
      "version": "3.8.10"
    },
    "vscode": {
      "interpreter": {
        "hash": "24291b65878706fc6739f2d92e434eded9132f6623d2e87ce2402691d2b4c7db"
      }
    }
  },
  "nbformat": 4,
  "nbformat_minor": 0
}